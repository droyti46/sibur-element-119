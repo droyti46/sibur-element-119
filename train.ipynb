{
 "cells": [
  {
   "cell_type": "markdown",
   "metadata": {
    "id": "x-q3zN3O2cVB"
   },
   "source": [
    "# **🧪 Элемент 119 — AI в химии от СИБУРа**\n",
    "\n",
    "## **📌 Суть задачи**\n",
    "Разработка модели машинного обучения для предсказания липофильности (LogP) органических молекул по их структуре (в формате SMILES).\n",
    "\n",
    "## **🧠 Что такое LogP?**\n",
    "**LogP** — это логарифм отношения концентрации вещества между органической и водной фазами. \\\n",
    "Характеризует «любовь» молекулы к органике (липофильность) и важен в химической промышленности, фармацевтике и материаловедении.\n",
    "\n",
    "$$\n",
    "\\log P = \\log_{10} \\left( \\frac{[C]_{\\text{органическая фаза}}}{[C]_{\\text{водная фаза}}} \\right)\n",
    "$$"
   ]
  },
  {
   "cell_type": "markdown",
   "metadata": {
    "id": "e0O4P-AHvihl"
   },
   "source": [
    "# **Установка библиотек**\n",
    "Установим все необходимые библиотеки: \\\n",
    "**chemprop** — пакет для машинного обучения, специально разработанный для прогнозирования молекулярных свойств с использованием графовых нейронных сетей (GNN)\n",
    "- [Github](https://github.com/chemprop/chemprop)\n",
    "- [Docs](https://chemprop.readthedocs.io/en/latest/)"
   ]
  },
  {
   "cell_type": "code",
   "execution_count": null,
   "metadata": {
    "collapsed": true,
    "id": "g5iTzF940Voy"
   },
   "outputs": [],
   "source": [
    "! pip install chemprop"
   ]
  },
  {
   "cell_type": "code",
   "execution_count": 2,
   "metadata": {
    "colab": {
     "base_uri": "https://localhost:8080/"
    },
    "id": "C7K0YCRng6oi",
    "outputId": "fe4e33e7-8d20-4a4a-af81-479737b9941f"
   },
   "outputs": [
    {
     "name": "stdout",
     "output_type": "stream",
     "text": [
      "Mounted at /content/drive\n",
      "/content/drive/MyDrive/sibur_ai\n"
     ]
    }
   ],
   "source": [
    "from google.colab import drive\n",
    "drive.mount('/content/drive')\n",
    "%cd /content/drive/MyDrive/sibur_ai"
   ]
  },
  {
   "cell_type": "markdown",
   "metadata": {
    "id": "2oSUHU2XxXpD"
   },
   "source": [
    "# **Импорт библиотек**\n",
    "\n",
    "При возникновении ошибки ```\n",
    "ValueError: numpy.dtype size changed, may indicate binary incompatibility. Expected 96 from C header, got 88 from PyObject``` просто перезагрузите сеанс"
   ]
  },
  {
   "cell_type": "code",
   "execution_count": 7,
   "metadata": {
    "id": "l2WGrFMQ4dSG"
   },
   "outputs": [],
   "source": [
    "# Анализ данных\n",
    "import pandas as pd\n",
    "import numpy as np\n",
    "from tqdm.notebook import tqdm, trange\n",
    "tqdm.pandas()\n",
    "\n",
    "# Хемоинформатика\n",
    "from rdkit import Chem\n",
    "from rdkit.Chem import AllChem"
   ]
  },
  {
   "cell_type": "code",
   "execution_count": 8,
   "metadata": {
    "colab": {
     "base_uri": "https://localhost:8080/",
     "height": 206
    },
    "id": "hdiiQCzs4fQA",
    "outputId": "dac80483-ba10-4341-f7d6-da29773f3b86"
   },
   "outputs": [
    {
     "data": {
      "application/vnd.google.colaboratory.intrinsic+json": {
       "summary": "{\n  \"name\": \"train\",\n  \"rows\": 13403,\n  \"fields\": [\n    {\n      \"column\": \"ID\",\n      \"properties\": {\n        \"dtype\": \"number\",\n        \"std\": 3869,\n        \"min\": 0,\n        \"max\": 13402,\n        \"num_unique_values\": 13403,\n        \"samples\": [\n          12750,\n          7187,\n          457\n        ],\n        \"semantic_type\": \"\",\n        \"description\": \"\"\n      }\n    },\n    {\n      \"column\": \"SMILES\",\n      \"properties\": {\n        \"dtype\": \"string\",\n        \"num_unique_values\": 11348,\n        \"samples\": [\n          \"ClC(Cl)(Cl)C1=NC(NC(=N1)SC)=NCC\",\n          \"N=C1NC2=C(C(N1)=O)NC(N)=C2CC3=CSC=C3\",\n          \"C1CN(CCN1CC2CN=C(O2)N)C3=CC=C(C=C3)OC\"\n        ],\n        \"semantic_type\": \"\",\n        \"description\": \"\"\n      }\n    },\n    {\n      \"column\": \"LogP\",\n      \"properties\": {\n        \"dtype\": \"number\",\n        \"std\": 2.3310797852825833,\n        \"min\": -15.72,\n        \"max\": 22.701,\n        \"num_unique_values\": 6472,\n        \"samples\": [\n          4.046,\n          9.49,\n          1.624\n        ],\n        \"semantic_type\": \"\",\n        \"description\": \"\"\n      }\n    }\n  ]\n}",
       "type": "dataframe",
       "variable_name": "train"
      },
      "text/html": [
       "\n",
       "  <div id=\"df-09462991-a1aa-4e33-8dbe-1589b56c76a3\" class=\"colab-df-container\">\n",
       "    <div>\n",
       "<style scoped>\n",
       "    .dataframe tbody tr th:only-of-type {\n",
       "        vertical-align: middle;\n",
       "    }\n",
       "\n",
       "    .dataframe tbody tr th {\n",
       "        vertical-align: top;\n",
       "    }\n",
       "\n",
       "    .dataframe thead th {\n",
       "        text-align: right;\n",
       "    }\n",
       "</style>\n",
       "<table border=\"1\" class=\"dataframe\">\n",
       "  <thead>\n",
       "    <tr style=\"text-align: right;\">\n",
       "      <th></th>\n",
       "      <th>ID</th>\n",
       "      <th>SMILES</th>\n",
       "      <th>LogP</th>\n",
       "    </tr>\n",
       "  </thead>\n",
       "  <tbody>\n",
       "    <tr>\n",
       "      <th>0</th>\n",
       "      <td>0</td>\n",
       "      <td>C1(NON=C1C2=CC=CC=C2)=N</td>\n",
       "      <td>3.093</td>\n",
       "    </tr>\n",
       "    <tr>\n",
       "      <th>1</th>\n",
       "      <td>1</td>\n",
       "      <td>C=1C=CC=CC=1CC(NC=2C=CC(=CC=2)Br)=O</td>\n",
       "      <td>5.245</td>\n",
       "    </tr>\n",
       "    <tr>\n",
       "      <th>2</th>\n",
       "      <td>2</td>\n",
       "      <td>C(C)C1=CC=CS1</td>\n",
       "      <td>4.294</td>\n",
       "    </tr>\n",
       "    <tr>\n",
       "      <th>3</th>\n",
       "      <td>3</td>\n",
       "      <td>N1C=CNC1=NC2C(OC)=NC(=NC2Cl)C</td>\n",
       "      <td>2.254</td>\n",
       "    </tr>\n",
       "    <tr>\n",
       "      <th>4</th>\n",
       "      <td>4</td>\n",
       "      <td>CC(C)CCO</td>\n",
       "      <td>1.939</td>\n",
       "    </tr>\n",
       "  </tbody>\n",
       "</table>\n",
       "</div>\n",
       "    <div class=\"colab-df-buttons\">\n",
       "\n",
       "  <div class=\"colab-df-container\">\n",
       "    <button class=\"colab-df-convert\" onclick=\"convertToInteractive('df-09462991-a1aa-4e33-8dbe-1589b56c76a3')\"\n",
       "            title=\"Convert this dataframe to an interactive table.\"\n",
       "            style=\"display:none;\">\n",
       "\n",
       "  <svg xmlns=\"http://www.w3.org/2000/svg\" height=\"24px\" viewBox=\"0 -960 960 960\">\n",
       "    <path d=\"M120-120v-720h720v720H120Zm60-500h600v-160H180v160Zm220 220h160v-160H400v160Zm0 220h160v-160H400v160ZM180-400h160v-160H180v160Zm440 0h160v-160H620v160ZM180-180h160v-160H180v160Zm440 0h160v-160H620v160Z\"/>\n",
       "  </svg>\n",
       "    </button>\n",
       "\n",
       "  <style>\n",
       "    .colab-df-container {\n",
       "      display:flex;\n",
       "      gap: 12px;\n",
       "    }\n",
       "\n",
       "    .colab-df-convert {\n",
       "      background-color: #E8F0FE;\n",
       "      border: none;\n",
       "      border-radius: 50%;\n",
       "      cursor: pointer;\n",
       "      display: none;\n",
       "      fill: #1967D2;\n",
       "      height: 32px;\n",
       "      padding: 0 0 0 0;\n",
       "      width: 32px;\n",
       "    }\n",
       "\n",
       "    .colab-df-convert:hover {\n",
       "      background-color: #E2EBFA;\n",
       "      box-shadow: 0px 1px 2px rgba(60, 64, 67, 0.3), 0px 1px 3px 1px rgba(60, 64, 67, 0.15);\n",
       "      fill: #174EA6;\n",
       "    }\n",
       "\n",
       "    .colab-df-buttons div {\n",
       "      margin-bottom: 4px;\n",
       "    }\n",
       "\n",
       "    [theme=dark] .colab-df-convert {\n",
       "      background-color: #3B4455;\n",
       "      fill: #D2E3FC;\n",
       "    }\n",
       "\n",
       "    [theme=dark] .colab-df-convert:hover {\n",
       "      background-color: #434B5C;\n",
       "      box-shadow: 0px 1px 3px 1px rgba(0, 0, 0, 0.15);\n",
       "      filter: drop-shadow(0px 1px 2px rgba(0, 0, 0, 0.3));\n",
       "      fill: #FFFFFF;\n",
       "    }\n",
       "  </style>\n",
       "\n",
       "    <script>\n",
       "      const buttonEl =\n",
       "        document.querySelector('#df-09462991-a1aa-4e33-8dbe-1589b56c76a3 button.colab-df-convert');\n",
       "      buttonEl.style.display =\n",
       "        google.colab.kernel.accessAllowed ? 'block' : 'none';\n",
       "\n",
       "      async function convertToInteractive(key) {\n",
       "        const element = document.querySelector('#df-09462991-a1aa-4e33-8dbe-1589b56c76a3');\n",
       "        const dataTable =\n",
       "          await google.colab.kernel.invokeFunction('convertToInteractive',\n",
       "                                                    [key], {});\n",
       "        if (!dataTable) return;\n",
       "\n",
       "        const docLinkHtml = 'Like what you see? Visit the ' +\n",
       "          '<a target=\"_blank\" href=https://colab.research.google.com/notebooks/data_table.ipynb>data table notebook</a>'\n",
       "          + ' to learn more about interactive tables.';\n",
       "        element.innerHTML = '';\n",
       "        dataTable['output_type'] = 'display_data';\n",
       "        await google.colab.output.renderOutput(dataTable, element);\n",
       "        const docLink = document.createElement('div');\n",
       "        docLink.innerHTML = docLinkHtml;\n",
       "        element.appendChild(docLink);\n",
       "      }\n",
       "    </script>\n",
       "  </div>\n",
       "\n",
       "\n",
       "<div id=\"df-b8804a64-9b5f-48c3-9efb-a7c07cd726ee\">\n",
       "  <button class=\"colab-df-quickchart\" onclick=\"quickchart('df-b8804a64-9b5f-48c3-9efb-a7c07cd726ee')\"\n",
       "            title=\"Suggest charts\"\n",
       "            style=\"display:none;\">\n",
       "\n",
       "<svg xmlns=\"http://www.w3.org/2000/svg\" height=\"24px\"viewBox=\"0 0 24 24\"\n",
       "     width=\"24px\">\n",
       "    <g>\n",
       "        <path d=\"M19 3H5c-1.1 0-2 .9-2 2v14c0 1.1.9 2 2 2h14c1.1 0 2-.9 2-2V5c0-1.1-.9-2-2-2zM9 17H7v-7h2v7zm4 0h-2V7h2v10zm4 0h-2v-4h2v4z\"/>\n",
       "    </g>\n",
       "</svg>\n",
       "  </button>\n",
       "\n",
       "<style>\n",
       "  .colab-df-quickchart {\n",
       "      --bg-color: #E8F0FE;\n",
       "      --fill-color: #1967D2;\n",
       "      --hover-bg-color: #E2EBFA;\n",
       "      --hover-fill-color: #174EA6;\n",
       "      --disabled-fill-color: #AAA;\n",
       "      --disabled-bg-color: #DDD;\n",
       "  }\n",
       "\n",
       "  [theme=dark] .colab-df-quickchart {\n",
       "      --bg-color: #3B4455;\n",
       "      --fill-color: #D2E3FC;\n",
       "      --hover-bg-color: #434B5C;\n",
       "      --hover-fill-color: #FFFFFF;\n",
       "      --disabled-bg-color: #3B4455;\n",
       "      --disabled-fill-color: #666;\n",
       "  }\n",
       "\n",
       "  .colab-df-quickchart {\n",
       "    background-color: var(--bg-color);\n",
       "    border: none;\n",
       "    border-radius: 50%;\n",
       "    cursor: pointer;\n",
       "    display: none;\n",
       "    fill: var(--fill-color);\n",
       "    height: 32px;\n",
       "    padding: 0;\n",
       "    width: 32px;\n",
       "  }\n",
       "\n",
       "  .colab-df-quickchart:hover {\n",
       "    background-color: var(--hover-bg-color);\n",
       "    box-shadow: 0 1px 2px rgba(60, 64, 67, 0.3), 0 1px 3px 1px rgba(60, 64, 67, 0.15);\n",
       "    fill: var(--button-hover-fill-color);\n",
       "  }\n",
       "\n",
       "  .colab-df-quickchart-complete:disabled,\n",
       "  .colab-df-quickchart-complete:disabled:hover {\n",
       "    background-color: var(--disabled-bg-color);\n",
       "    fill: var(--disabled-fill-color);\n",
       "    box-shadow: none;\n",
       "  }\n",
       "\n",
       "  .colab-df-spinner {\n",
       "    border: 2px solid var(--fill-color);\n",
       "    border-color: transparent;\n",
       "    border-bottom-color: var(--fill-color);\n",
       "    animation:\n",
       "      spin 1s steps(1) infinite;\n",
       "  }\n",
       "\n",
       "  @keyframes spin {\n",
       "    0% {\n",
       "      border-color: transparent;\n",
       "      border-bottom-color: var(--fill-color);\n",
       "      border-left-color: var(--fill-color);\n",
       "    }\n",
       "    20% {\n",
       "      border-color: transparent;\n",
       "      border-left-color: var(--fill-color);\n",
       "      border-top-color: var(--fill-color);\n",
       "    }\n",
       "    30% {\n",
       "      border-color: transparent;\n",
       "      border-left-color: var(--fill-color);\n",
       "      border-top-color: var(--fill-color);\n",
       "      border-right-color: var(--fill-color);\n",
       "    }\n",
       "    40% {\n",
       "      border-color: transparent;\n",
       "      border-right-color: var(--fill-color);\n",
       "      border-top-color: var(--fill-color);\n",
       "    }\n",
       "    60% {\n",
       "      border-color: transparent;\n",
       "      border-right-color: var(--fill-color);\n",
       "    }\n",
       "    80% {\n",
       "      border-color: transparent;\n",
       "      border-right-color: var(--fill-color);\n",
       "      border-bottom-color: var(--fill-color);\n",
       "    }\n",
       "    90% {\n",
       "      border-color: transparent;\n",
       "      border-bottom-color: var(--fill-color);\n",
       "    }\n",
       "  }\n",
       "</style>\n",
       "\n",
       "  <script>\n",
       "    async function quickchart(key) {\n",
       "      const quickchartButtonEl =\n",
       "        document.querySelector('#' + key + ' button');\n",
       "      quickchartButtonEl.disabled = true;  // To prevent multiple clicks.\n",
       "      quickchartButtonEl.classList.add('colab-df-spinner');\n",
       "      try {\n",
       "        const charts = await google.colab.kernel.invokeFunction(\n",
       "            'suggestCharts', [key], {});\n",
       "      } catch (error) {\n",
       "        console.error('Error during call to suggestCharts:', error);\n",
       "      }\n",
       "      quickchartButtonEl.classList.remove('colab-df-spinner');\n",
       "      quickchartButtonEl.classList.add('colab-df-quickchart-complete');\n",
       "    }\n",
       "    (() => {\n",
       "      let quickchartButtonEl =\n",
       "        document.querySelector('#df-b8804a64-9b5f-48c3-9efb-a7c07cd726ee button');\n",
       "      quickchartButtonEl.style.display =\n",
       "        google.colab.kernel.accessAllowed ? 'block' : 'none';\n",
       "    })();\n",
       "  </script>\n",
       "</div>\n",
       "    </div>\n",
       "  </div>\n"
      ],
      "text/plain": [
       "   ID                               SMILES   LogP\n",
       "0   0              C1(NON=C1C2=CC=CC=C2)=N  3.093\n",
       "1   1  C=1C=CC=CC=1CC(NC=2C=CC(=CC=2)Br)=O  5.245\n",
       "2   2                        C(C)C1=CC=CS1  4.294\n",
       "3   3        N1C=CNC1=NC2C(OC)=NC(=NC2Cl)C  2.254\n",
       "4   4                             CC(C)CCO  1.939"
      ]
     },
     "execution_count": 8,
     "metadata": {},
     "output_type": "execute_result"
    }
   ],
   "source": [
    "train = pd.read_csv('train.csv')\n",
    "train.head()"
   ]
  },
  {
   "cell_type": "code",
   "execution_count": 3,
   "metadata": {
    "id": "a_278w9ioo0w"
   },
   "outputs": [],
   "source": [
    "from rdkit.Chem import Draw\n",
    "\n",
    "def plot_molecule(smiles: str, width: int = 400, height: int = 200) -> None:\n",
    "\n",
    "    '''\n",
    "    Визуализирует молекулу в 2D (статическое изображение).\n",
    "    Работает в GitHub Preview.\n",
    "    '''\n",
    "\n",
    "    mol = Chem.MolFromSmiles(smiles)\n",
    "\n",
    "    if mol is None:\n",
    "        raise ValueError('Неверная SMILES строка')\n",
    "\n",
    "    img = Draw.MolToImage(mol, size=(width, height))\n",
    "    display(img)"
   ]
  },
  {
   "cell_type": "code",
   "execution_count": 9,
   "metadata": {
    "colab": {
     "base_uri": "https://localhost:8080/",
     "height": 1000
    },
    "id": "jSSxPV7eor1V",
    "outputId": "37d77b49-35a9-4261-a1cd-6dc93726b0af"
   },
   "outputs": [
    {
     "data": {
      "image/jpeg": "[encoded data removed]",
      "image/png": "[encoded data removed]",
      "text/plain": [
       "<PIL.PngImagePlugin.PngImageFile image mode=RGB size=400x200>"
      ]
     },
     "metadata": {},
     "output_type": "display_data"
    },
    {
     "data": {
      "image/jpeg": "[encoded data removed]",
      "image/png": "[encoded data removed]",
      "text/plain": [
       "<PIL.PngImagePlugin.PngImageFile image mode=RGB size=400x200>"
      ]
     },
     "metadata": {},
     "output_type": "display_data"
    },
    {
     "data": {
      "image/jpeg": "[encoded data removed]",
      "image/png": "[encoded data removed]",
      "text/plain": [
       "<PIL.PngImagePlugin.PngImageFile image mode=RGB size=400x200>"
      ]
     },
     "metadata": {},
     "output_type": "display_data"
    },
    {
     "data": {
      "image/jpeg": "[encoded data removed]",
      "image/png": "[encoded data removed]",
      "text/plain": [
       "<PIL.PngImagePlugin.PngImageFile image mode=RGB size=400x200>"
      ]
     },
     "metadata": {},
     "output_type": "display_data"
    },
    {
     "data": {
      "image/jpeg": "[encoded data removed]",
      "image/png": "[encoded data removed]",
      "text/plain": [
       "<PIL.PngImagePlugin.PngImageFile image mode=RGB size=400x200>"
      ]
     },
     "metadata": {},
     "output_type": "display_data"
    }
   ],
   "source": [
    "import random\n",
    "\n",
    "random.seed(42)\n",
    "random_indices = [random.randint(0, len(train) - 1) for _ in range(5)]\n",
    "\n",
    "for index in random_indices:\n",
    "    plot_molecule(train.SMILES[index])"
   ]
  },
  {
   "cell_type": "code",
   "execution_count": null,
   "metadata": {
    "id": "yzUPAtAo52-7"
   },
   "outputs": [],
   "source": [
    "from rdkit import RDLogger\n",
    "\n",
    "# Отключаем все предупреждения RDKit\n",
    "RDLogger.DisableLog('rdApp.*')"
   ]
  },
  {
   "cell_type": "code",
   "execution_count": null,
   "metadata": {
    "colab": {
     "base_uri": "https://localhost:8080/",
     "height": 118,
     "referenced_widgets": [
      "300f512bc11c41379d47a55fdbd92d4d",
      "2bc243c7370448cba1f322ab87702fe6",
      "e61183feba694d08bb272600f63ebf68",
      "4b3b342ce33b4a59b4f2d91b15ade453",
      "d589716c0780433abb6f34c0b71faf9c",
      "45c348d1d0c844caa0f7457408804436",
      "c90ab2af0bab4070bbe072857e3358ac",
      "96314f06b916492cad0f4ffdca006b6a",
      "5117cdc3128b49a785c101b9fc5e53c5",
      "1c6fb07f58424611ad1a8447a9684488",
      "1e43bc3363c547a881087125f38545b1"
     ]
    },
    "id": "9xYLX_T24lHA",
    "outputId": "32d00d00-8f65-4dd0-ff00-a0043fcce9be"
   },
   "outputs": [
    {
     "data": {
      "application/vnd.jupyter.widget-view+json": {
       "model_id": "300f512bc11c41379d47a55fdbd92d4d",
       "version_major": 2,
       "version_minor": 0
      },
      "text/plain": [
       "  0%|          | 0/13403 [00:00<?, ?it/s]"
      ]
     },
     "metadata": {},
     "output_type": "display_data"
    },
    {
     "name": "stdout",
     "output_type": "stream",
     "text": [
      "Данные очищены\n",
      "Количество первоначальных данных: 13403\n",
      "Осталось данных: 12953\n",
      "Оставлено 96.64% данных\n"
     ]
    }
   ],
   "source": [
    "# Фильтрация неправильных молекул\n",
    "train_clean = train[train['SMILES'].progress_apply(lambda smiles: Chem.MolFromSmiles(smiles) is not None)]\n",
    "\n",
    "print('Данные очищены')\n",
    "print(f'Количество первоначальных данных: {len(train)}')\n",
    "print(f'Осталось данных: {len(train_clean)}')\n",
    "print(f'Оставлено {len(train_clean) / len(train) * 100:.2f}% данных')"
   ]
  },
  {
   "cell_type": "markdown",
   "metadata": {
    "id": "Crr6xkRe9Tv2"
   },
   "source": [
    "# 📊 **Анализ данных**\n",
    "Построим распределение характеристики LogP"
   ]
  },
  {
   "cell_type": "code",
   "execution_count": null,
   "metadata": {
    "id": "malxSqaQSujr"
   },
   "outputs": [],
   "source": [
    "from matplotlib import pyplot as plt\n",
    "\n",
    "def plot_distribution(values) -> None:\n",
    "\n",
    "    '''\n",
    "    Строит гистограмму распределения значений LogP\n",
    "\n",
    "    Параметры:\n",
    "        values (pd.Series): серия числовых значений LogP\n",
    "\n",
    "    Функция визуализирует распределение значений LogP\n",
    "    '''\n",
    "\n",
    "    plt.figure(figsize=(10, 6))\n",
    "    ax = values.plot(kind='hist',\n",
    "                     bins=20,\n",
    "                     color='skyblue',\n",
    "                     edgecolor='white',\n",
    "                     alpha=0.8)\n",
    "\n",
    "    # Заголовок и подписи\n",
    "    plt.title('LogP Distribution', fontsize=16, pad=20)\n",
    "    plt.xlabel('LogP Values', fontsize=12)\n",
    "    plt.ylabel('Frequency', fontsize=12)\n",
    "\n",
    "    # Убираем верхнюю и правую границы\n",
    "    ax.spines[['top', 'right']].set_visible(False)\n",
    "\n",
    "    # Сетка\n",
    "    ax.grid(axis='y', linestyle='--', alpha=0.4)\n",
    "\n",
    "    # Цвет фона\n",
    "    ax.set_facecolor('#f5f5f5')\n",
    "\n",
    "    # Размер шкалы\n",
    "    plt.xticks(fontsize=10)\n",
    "    plt.yticks(fontsize=10)\n",
    "\n",
    "    # Добавляем линию среднего значения\n",
    "    mean_val = values.mean()\n",
    "    plt.axvline(mean_val, color='salmon', linestyle='--', linewidth=2)\n",
    "    plt.text(mean_val*1.05, ax.get_ylim()[1]*0.9, f'Mean: {mean_val:.2f}', color='salmon')\n",
    "\n",
    "    plt.tight_layout()\n",
    "    plt.show()"
   ]
  },
  {
   "cell_type": "code",
   "execution_count": null,
   "metadata": {
    "colab": {
     "base_uri": "https://localhost:8080/",
     "height": 607
    },
    "id": "dELMFoOG0Reb",
    "outputId": "8bb2a304-c07d-4e00-c1c3-f1f2c75bf37e"
   },
   "outputs": [
    {
     "data": {
      "image/png": "[encoded data removed]",
      "text/plain": [
       "<Figure size 1000x600 with 1 Axes>"
      ]
     },
     "metadata": {},
     "output_type": "display_data"
    }
   ],
   "source": [
    "plot_distribution(train_clean['LogP'])"
   ]
  },
  {
   "cell_type": "markdown",
   "metadata": {
    "id": "NAjvY0Dc6W7K"
   },
   "source": [
    "# **Анализ распределения целевой переменной (LogP)**\n",
    "\n",
    "На гистограмме видно, что большинство значений LogP сконцентрировано в диапазоне от **-2** до **9**, при этом среднее значение составляет около **3.56**.\n",
    "\n",
    "## **📌 Почему я выбрал диапазон [-2, 9]:**\n",
    "\n",
    "- Этот интервал охватывает основную массу данных, исключая редкие выбросы, которые могут негативно повлиять на обучение модели.\n",
    "\n",
    "- Значения вне этого диапазона (особенно ниже -5 и выше 10) являются редкими и потенциально шумными"
   ]
  },
  {
   "cell_type": "code",
   "execution_count": null,
   "metadata": {
    "id": "6bNNcqVumQo7"
   },
   "outputs": [],
   "source": [
    "lower_bound = -2\n",
    "upper_bound = 9"
   ]
  },
  {
   "cell_type": "code",
   "execution_count": null,
   "metadata": {
    "colab": {
     "base_uri": "https://localhost:8080/"
    },
    "id": "iTMeebWBxd2d",
    "outputId": "e69c557f-6434-4048-882e-83203dd99ead"
   },
   "outputs": [
    {
     "name": "stdout",
     "output_type": "stream",
     "text": [
      "Количество первоначальных данных: 12953\n",
      "Осталось данных: 12656\n",
      "Оставлено 97.71% данных\n"
     ]
    }
   ],
   "source": [
    "data_filtered = train_clean[(train_clean['LogP'] > lower_bound) & (train_clean['LogP'] < upper_bound)]\n",
    "\n",
    "print(f'Количество первоначальных данных: {len(train_clean)}')\n",
    "print(f'Осталось данных: {len(data_filtered)}')\n",
    "print(f'Оставлено {len(data_filtered) / len(train_clean) * 100:.2f}% данных')"
   ]
  },
  {
   "cell_type": "code",
   "execution_count": null,
   "metadata": {
    "colab": {
     "base_uri": "https://localhost:8080/"
    },
    "id": "mjCGJSnD1H04",
    "outputId": "0f00ae8a-11ef-4248-be29-7e0aec48fbe8"
   },
   "outputs": [
    {
     "name": "stdout",
     "output_type": "stream",
     "text": [
      "В данных 1864 дубликатов\n"
     ]
    }
   ],
   "source": [
    "# Проверим данные на наличие дубликатов\n",
    "data_filtered.loc[:, 'SMILES'] = data_filtered['SMILES'].str.strip()\n",
    "print(f'В данных {data_filtered[\"SMILES\"].duplicated().sum()} дубликатов')"
   ]
  },
  {
   "cell_type": "markdown",
   "metadata": {
    "id": "S-5YnjGD7ipc"
   },
   "source": [
    "В исходных данных обнаружено 1864 дубликата по SMILES — это означает, что одни и те же молекулы (с одинаковым описанием структуры) присутствуют в датасете несколько раз с разными значениями LogP.\n",
    "\n",
    "Чтобы избавиться от дублирования и избежать переобучения модели на одинаковых молекулах, я объединил такие строки и усреднил значения Log"
   ]
  },
  {
   "cell_type": "code",
   "execution_count": null,
   "metadata": {
    "colab": {
     "base_uri": "https://localhost:8080/"
    },
    "id": "D-hY2CtrPoQH",
    "outputId": "40696b67-8fab-4ca5-b646-c6a7fa0b81a4"
   },
   "outputs": [
    {
     "name": "stdout",
     "output_type": "stream",
     "text": [
      "Осталось данных: 10792\n",
      "От изначального train осталось 80.52% данных\n"
     ]
    }
   ],
   "source": [
    "data_filtered.loc[:, 'SMILES'] = data_filtered['SMILES'].str.strip()\n",
    "data_filtered = data_filtered.groupby('SMILES').agg({\n",
    "    'LogP': 'mean',\n",
    "}).reset_index()\n",
    "\n",
    "print(f'Осталось данных: {len(data_filtered)}')\n",
    "print(f'От изначального train осталось {len(data_filtered) / len(train) * 100:.2f}% данных')"
   ]
  },
  {
   "cell_type": "markdown",
   "metadata": {
    "id": "FHI3MfsU6v2o"
   },
   "source": [
    "Посмотрим на распределение целевой характеристики после фильтрации данных"
   ]
  },
  {
   "cell_type": "code",
   "execution_count": null,
   "metadata": {
    "colab": {
     "base_uri": "https://localhost:8080/",
     "height": 607
    },
    "id": "q86duX2V2E_w",
    "outputId": "af1dc663-c847-471b-f5de-6ab08aabfd07"
   },
   "outputs": [
    {
     "data": {
      "image/png": "[encoded data removed]",
      "text/plain": [
       "<Figure size 1000x600 with 1 Axes>"
      ]
     },
     "metadata": {},
     "output_type": "display_data"
    }
   ],
   "source": [
    "# Распределение после очистки данных\n",
    "plot_distribution(data_filtered['LogP'])"
   ]
  },
  {
   "cell_type": "code",
   "execution_count": null,
   "metadata": {
    "id": "HCuoO6Lcnsee"
   },
   "outputs": [],
   "source": [
    "data_filtered.to_csv('train_clean.csv', index=False)"
   ]
  },
  {
   "cell_type": "code",
   "execution_count": null,
   "metadata": {
    "colab": {
     "base_uri": "https://localhost:8080/"
    },
    "id": "HeBGIxWFF5hQ",
    "outputId": "49f56661-c7fd-4ef1-ce28-d5fc8d7e4442"
   },
   "outputs": [
    {
     "name": "stdout",
     "output_type": "stream",
     "text": [
      "В тренировочных данных 10792 строк\n"
     ]
    }
   ],
   "source": [
    "train = pd.read_csv('train_clean.csv')\n",
    "print(f'В тренировочных данных {len(train)} строк')"
   ]
  },
  {
   "cell_type": "code",
   "execution_count": null,
   "metadata": {
    "colab": {
     "base_uri": "https://localhost:8080/",
     "height": 206
    },
    "id": "Ho1oSfNf65G_",
    "outputId": "2482c50c-d283-4c46-e557-c27f92e835fd"
   },
   "outputs": [
    {
     "data": {
      "application/vnd.google.colaboratory.intrinsic+json": {
       "summary": "{\n  \"name\": \"train\",\n  \"rows\": 10792,\n  \"fields\": [\n    {\n      \"column\": \"SMILES\",\n      \"properties\": {\n        \"dtype\": \"string\",\n        \"num_unique_values\": 10792,\n        \"samples\": [\n          \"C=1C(=CC=CC=1)C(O)C(C=2C=CC=CC=2)O\",\n          \"O1C(CCC(=O)O)=CC(=O)C2=CC3=C(CCCC3)C=C12\",\n          \"CNC12CCCCC2CCC=3C1=CC(=CC=3)OC\"\n        ],\n        \"semantic_type\": \"\",\n        \"description\": \"\"\n      }\n    },\n    {\n      \"column\": \"LogP\",\n      \"properties\": {\n        \"dtype\": \"number\",\n        \"std\": 1.8281499797696785,\n        \"min\": -1.897,\n        \"max\": 8.999,\n        \"num_unique_values\": 5797,\n        \"samples\": [\n          2.415,\n          3.673,\n          1.988\n        ],\n        \"semantic_type\": \"\",\n        \"description\": \"\"\n      }\n    }\n  ]\n}",
       "type": "dataframe",
       "variable_name": "train"
      },
      "text/html": [
       "\n",
       "  <div id=\"df-dbe54756-042f-46d8-85ee-292da233a7c3\" class=\"colab-df-container\">\n",
       "    <div>\n",
       "<style scoped>\n",
       "    .dataframe tbody tr th:only-of-type {\n",
       "        vertical-align: middle;\n",
       "    }\n",
       "\n",
       "    .dataframe tbody tr th {\n",
       "        vertical-align: top;\n",
       "    }\n",
       "\n",
       "    .dataframe thead th {\n",
       "        text-align: right;\n",
       "    }\n",
       "</style>\n",
       "<table border=\"1\" class=\"dataframe\">\n",
       "  <thead>\n",
       "    <tr style=\"text-align: right;\">\n",
       "      <th></th>\n",
       "      <th>SMILES</th>\n",
       "      <th>LogP</th>\n",
       "    </tr>\n",
       "  </thead>\n",
       "  <tbody>\n",
       "    <tr>\n",
       "      <th>0</th>\n",
       "      <td>BrC(Br)(Br)Br</td>\n",
       "      <td>4.147</td>\n",
       "    </tr>\n",
       "    <tr>\n",
       "      <th>1</th>\n",
       "      <td>BrC(Br)(Br)CO</td>\n",
       "      <td>2.897</td>\n",
       "    </tr>\n",
       "    <tr>\n",
       "      <th>2</th>\n",
       "      <td>BrC(Br)(C(N)=O)C#N</td>\n",
       "      <td>1.824</td>\n",
       "    </tr>\n",
       "    <tr>\n",
       "      <th>3</th>\n",
       "      <td>BrC(Br)C(NC(C(O)C=1C=CC(=CC=1)[N+](=O)[O-])CO)=O</td>\n",
       "      <td>3.524</td>\n",
       "    </tr>\n",
       "    <tr>\n",
       "      <th>4</th>\n",
       "      <td>BrC1=C(C(NC2=NCCN2)=CC=C1)C</td>\n",
       "      <td>3.443</td>\n",
       "    </tr>\n",
       "  </tbody>\n",
       "</table>\n",
       "</div>\n",
       "    <div class=\"colab-df-buttons\">\n",
       "\n",
       "  <div class=\"colab-df-container\">\n",
       "    <button class=\"colab-df-convert\" onclick=\"convertToInteractive('df-dbe54756-042f-46d8-85ee-292da233a7c3')\"\n",
       "            title=\"Convert this dataframe to an interactive table.\"\n",
       "            style=\"display:none;\">\n",
       "\n",
       "  <svg xmlns=\"http://www.w3.org/2000/svg\" height=\"24px\" viewBox=\"0 -960 960 960\">\n",
       "    <path d=\"M120-120v-720h720v720H120Zm60-500h600v-160H180v160Zm220 220h160v-160H400v160Zm0 220h160v-160H400v160ZM180-400h160v-160H180v160Zm440 0h160v-160H620v160ZM180-180h160v-160H180v160Zm440 0h160v-160H620v160Z\"/>\n",
       "  </svg>\n",
       "    </button>\n",
       "\n",
       "  <style>\n",
       "    .colab-df-container {\n",
       "      display:flex;\n",
       "      gap: 12px;\n",
       "    }\n",
       "\n",
       "    .colab-df-convert {\n",
       "      background-color: #E8F0FE;\n",
       "      border: none;\n",
       "      border-radius: 50%;\n",
       "      cursor: pointer;\n",
       "      display: none;\n",
       "      fill: #1967D2;\n",
       "      height: 32px;\n",
       "      padding: 0 0 0 0;\n",
       "      width: 32px;\n",
       "    }\n",
       "\n",
       "    .colab-df-convert:hover {\n",
       "      background-color: #E2EBFA;\n",
       "      box-shadow: 0px 1px 2px rgba(60, 64, 67, 0.3), 0px 1px 3px 1px rgba(60, 64, 67, 0.15);\n",
       "      fill: #174EA6;\n",
       "    }\n",
       "\n",
       "    .colab-df-buttons div {\n",
       "      margin-bottom: 4px;\n",
       "    }\n",
       "\n",
       "    [theme=dark] .colab-df-convert {\n",
       "      background-color: #3B4455;\n",
       "      fill: #D2E3FC;\n",
       "    }\n",
       "\n",
       "    [theme=dark] .colab-df-convert:hover {\n",
       "      background-color: #434B5C;\n",
       "      box-shadow: 0px 1px 3px 1px rgba(0, 0, 0, 0.15);\n",
       "      filter: drop-shadow(0px 1px 2px rgba(0, 0, 0, 0.3));\n",
       "      fill: #FFFFFF;\n",
       "    }\n",
       "  </style>\n",
       "\n",
       "    <script>\n",
       "      const buttonEl =\n",
       "        document.querySelector('#df-dbe54756-042f-46d8-85ee-292da233a7c3 button.colab-df-convert');\n",
       "      buttonEl.style.display =\n",
       "        google.colab.kernel.accessAllowed ? 'block' : 'none';\n",
       "\n",
       "      async function convertToInteractive(key) {\n",
       "        const element = document.querySelector('#df-dbe54756-042f-46d8-85ee-292da233a7c3');\n",
       "        const dataTable =\n",
       "          await google.colab.kernel.invokeFunction('convertToInteractive',\n",
       "                                                    [key], {});\n",
       "        if (!dataTable) return;\n",
       "\n",
       "        const docLinkHtml = 'Like what you see? Visit the ' +\n",
       "          '<a target=\"_blank\" href=https://colab.research.google.com/notebooks/data_table.ipynb>data table notebook</a>'\n",
       "          + ' to learn more about interactive tables.';\n",
       "        element.innerHTML = '';\n",
       "        dataTable['output_type'] = 'display_data';\n",
       "        await google.colab.output.renderOutput(dataTable, element);\n",
       "        const docLink = document.createElement('div');\n",
       "        docLink.innerHTML = docLinkHtml;\n",
       "        element.appendChild(docLink);\n",
       "      }\n",
       "    </script>\n",
       "  </div>\n",
       "\n",
       "\n",
       "<div id=\"df-d70401b1-235f-4ae3-ace5-c29d5fb1d306\">\n",
       "  <button class=\"colab-df-quickchart\" onclick=\"quickchart('df-d70401b1-235f-4ae3-ace5-c29d5fb1d306')\"\n",
       "            title=\"Suggest charts\"\n",
       "            style=\"display:none;\">\n",
       "\n",
       "<svg xmlns=\"http://www.w3.org/2000/svg\" height=\"24px\"viewBox=\"0 0 24 24\"\n",
       "     width=\"24px\">\n",
       "    <g>\n",
       "        <path d=\"M19 3H5c-1.1 0-2 .9-2 2v14c0 1.1.9 2 2 2h14c1.1 0 2-.9 2-2V5c0-1.1-.9-2-2-2zM9 17H7v-7h2v7zm4 0h-2V7h2v10zm4 0h-2v-4h2v4z\"/>\n",
       "    </g>\n",
       "</svg>\n",
       "  </button>\n",
       "\n",
       "<style>\n",
       "  .colab-df-quickchart {\n",
       "      --bg-color: #E8F0FE;\n",
       "      --fill-color: #1967D2;\n",
       "      --hover-bg-color: #E2EBFA;\n",
       "      --hover-fill-color: #174EA6;\n",
       "      --disabled-fill-color: #AAA;\n",
       "      --disabled-bg-color: #DDD;\n",
       "  }\n",
       "\n",
       "  [theme=dark] .colab-df-quickchart {\n",
       "      --bg-color: #3B4455;\n",
       "      --fill-color: #D2E3FC;\n",
       "      --hover-bg-color: #434B5C;\n",
       "      --hover-fill-color: #FFFFFF;\n",
       "      --disabled-bg-color: #3B4455;\n",
       "      --disabled-fill-color: #666;\n",
       "  }\n",
       "\n",
       "  .colab-df-quickchart {\n",
       "    background-color: var(--bg-color);\n",
       "    border: none;\n",
       "    border-radius: 50%;\n",
       "    cursor: pointer;\n",
       "    display: none;\n",
       "    fill: var(--fill-color);\n",
       "    height: 32px;\n",
       "    padding: 0;\n",
       "    width: 32px;\n",
       "  }\n",
       "\n",
       "  .colab-df-quickchart:hover {\n",
       "    background-color: var(--hover-bg-color);\n",
       "    box-shadow: 0 1px 2px rgba(60, 64, 67, 0.3), 0 1px 3px 1px rgba(60, 64, 67, 0.15);\n",
       "    fill: var(--button-hover-fill-color);\n",
       "  }\n",
       "\n",
       "  .colab-df-quickchart-complete:disabled,\n",
       "  .colab-df-quickchart-complete:disabled:hover {\n",
       "    background-color: var(--disabled-bg-color);\n",
       "    fill: var(--disabled-fill-color);\n",
       "    box-shadow: none;\n",
       "  }\n",
       "\n",
       "  .colab-df-spinner {\n",
       "    border: 2px solid var(--fill-color);\n",
       "    border-color: transparent;\n",
       "    border-bottom-color: var(--fill-color);\n",
       "    animation:\n",
       "      spin 1s steps(1) infinite;\n",
       "  }\n",
       "\n",
       "  @keyframes spin {\n",
       "    0% {\n",
       "      border-color: transparent;\n",
       "      border-bottom-color: var(--fill-color);\n",
       "      border-left-color: var(--fill-color);\n",
       "    }\n",
       "    20% {\n",
       "      border-color: transparent;\n",
       "      border-left-color: var(--fill-color);\n",
       "      border-top-color: var(--fill-color);\n",
       "    }\n",
       "    30% {\n",
       "      border-color: transparent;\n",
       "      border-left-color: var(--fill-color);\n",
       "      border-top-color: var(--fill-color);\n",
       "      border-right-color: var(--fill-color);\n",
       "    }\n",
       "    40% {\n",
       "      border-color: transparent;\n",
       "      border-right-color: var(--fill-color);\n",
       "      border-top-color: var(--fill-color);\n",
       "    }\n",
       "    60% {\n",
       "      border-color: transparent;\n",
       "      border-right-color: var(--fill-color);\n",
       "    }\n",
       "    80% {\n",
       "      border-color: transparent;\n",
       "      border-right-color: var(--fill-color);\n",
       "      border-bottom-color: var(--fill-color);\n",
       "    }\n",
       "    90% {\n",
       "      border-color: transparent;\n",
       "      border-bottom-color: var(--fill-color);\n",
       "    }\n",
       "  }\n",
       "</style>\n",
       "\n",
       "  <script>\n",
       "    async function quickchart(key) {\n",
       "      const quickchartButtonEl =\n",
       "        document.querySelector('#' + key + ' button');\n",
       "      quickchartButtonEl.disabled = true;  // To prevent multiple clicks.\n",
       "      quickchartButtonEl.classList.add('colab-df-spinner');\n",
       "      try {\n",
       "        const charts = await google.colab.kernel.invokeFunction(\n",
       "            'suggestCharts', [key], {});\n",
       "      } catch (error) {\n",
       "        console.error('Error during call to suggestCharts:', error);\n",
       "      }\n",
       "      quickchartButtonEl.classList.remove('colab-df-spinner');\n",
       "      quickchartButtonEl.classList.add('colab-df-quickchart-complete');\n",
       "    }\n",
       "    (() => {\n",
       "      let quickchartButtonEl =\n",
       "        document.querySelector('#df-d70401b1-235f-4ae3-ace5-c29d5fb1d306 button');\n",
       "      quickchartButtonEl.style.display =\n",
       "        google.colab.kernel.accessAllowed ? 'block' : 'none';\n",
       "    })();\n",
       "  </script>\n",
       "</div>\n",
       "    </div>\n",
       "  </div>\n"
      ],
      "text/plain": [
       "                                             SMILES   LogP\n",
       "0                                     BrC(Br)(Br)Br  4.147\n",
       "1                                     BrC(Br)(Br)CO  2.897\n",
       "2                                BrC(Br)(C(N)=O)C#N  1.824\n",
       "3  BrC(Br)C(NC(C(O)C=1C=CC(=CC=1)[N+](=O)[O-])CO)=O  3.524\n",
       "4                       BrC1=C(C(NC2=NCCN2)=CC=C1)C  3.443"
      ]
     },
     "execution_count": 40,
     "metadata": {},
     "output_type": "execute_result"
    }
   ],
   "source": [
    "train.head()"
   ]
  },
  {
   "cell_type": "markdown",
   "metadata": {
    "id": "ovtifLoT3jd-"
   },
   "source": [
    "# **Обучение модели**\n",
    "\n",
    "**Chemprop** — это специализированная библиотека для предсказания химических свойств молекул с использованием графовых нейронных сетей (GNN)\n",
    "\n",
    "![](https://migalkin.github.io/kgcourse2021/assets/images/l8/l8_mpnn.png)\n",
    "\n",
    "Она предоставляет мощные инструменты для работы с молекулярными структурами, интегрируя графовые представления молекул и методы машинного обучения \\\n",
    "\n",
    "Наилучшие гиперпараметры была подобраны руками\n",
    "\n",
    "| **Гиперпараметр**        | **Значение**                         |\n",
    "|--------------------------|--------------------------------------|\n",
    "| `epochs`                 | 80                                   |\n",
    "| `patience`               | 15                                   |\n",
    "| `message-hidden-dim`     | 800                                  |\n",
    "| `depth`                  | 5                                    |\n",
    "| `ffn-hidden-dim`         | 1200                                 |\n",
    "| `ffn-num-layers`         | 4                                    |\n",
    "| `dropout`                | 0.2                                  |\n",
    "| `init-lr`                | 0.0005                               |\n",
    "| `max-lr`                 | 0.001                                |\n",
    "| `final-lr`               | 0.00005                              |\n",
    "| `batch-size`             | 128                                  |\n",
    "| `split-type`             | `random`                             |\n",
    "| `ensemble-size`          | 7                                    |\n",
    "| `num-replicates`         | 7                                    |\n",
    "| `pytorch-seed`           | 99                                   |"
   ]
  },
  {
   "cell_type": "code",
   "execution_count": null,
   "metadata": {
    "id": "Oh7k58-_lFbs"
   },
   "outputs": [],
   "source": [
    "! chemprop train \\\n",
    "  --data-path \"train_clean\" \\\n",
    "  --task-type 'regression' \\\n",
    "  --smiles-columns 'SMILES' \\\n",
    "  --target-columns 'LogP' \\\n",
    "  --metric 'rmse' \\\n",
    "  --epochs 80 \\\n",
    "  --patience 15 \\\n",
    "  --message-hidden-dim 800 \\\n",
    "  --depth 5 \\\n",
    "  --ffn-hidden-dim 1200 \\\n",
    "  --ffn-num-layers 4 \\\n",
    "  --dropout 0.2 \\\n",
    "  --init-lr 0.0005 \\\n",
    "  --max-lr 0.001 \\\n",
    "  --final-lr 0.00005 \\\n",
    "  --batch-size 128 \\\n",
    "  --split-type 'random' \\\n",
    "  --ensemble-size 7 \\\n",
    "  --num-replicates 7 \\\n",
    "  --pytorch-seed 99 \\\n",
    "  --save-dir \"logp_model\""
   ]
  },
  {
   "cell_type": "markdown",
   "metadata": {
    "id": "D82gRpEM3t89"
   },
   "source": [
    "Получился ансамбль из 49 моделей. График обучения выглядит так\n",
    "![](https://github.com/droyti46/sibur-element-119/blob/main/img/train-loss.png?raw=true)\n",
    "\n",
    "Точность предсказания на обучающей выборке\n",
    "![](https://github.com/droyti46/sibur-element-119/blob/main/img/comparison.jpg?raw=true)"
   ]
  },
  {
   "cell_type": "markdown",
   "metadata": {
    "id": "mioEvHgx3nNJ"
   },
   "source": [
    "# **Формирование предсказания**"
   ]
  },
  {
   "cell_type": "code",
   "execution_count": null,
   "metadata": {
    "id": "3hUiN7pZ4dsX"
   },
   "outputs": [],
   "source": [
    "! chemprop predict \\\n",
    "  --test-path 'test.csv' \\\n",
    "  --model-paths 'logp_model' \\\n",
    "  --smiles-columns 'SMILES' \\\n",
    "  --preds-path 'submission.csv'"
   ]
  },
  {
   "cell_type": "code",
   "execution_count": null,
   "metadata": {
    "id": "jQ961zt640Nn"
   },
   "outputs": [],
   "source": [
    "submission = pd.read_csv('submission.csv')\n",
    "submission.drop(columns=['SMILES']).to_csv('submission.csv', index=False)"
   ]
  },
  {
   "cell_type": "markdown",
   "metadata": {
    "id": "By4drOTU43nj"
   },
   "source": [
    "# **Готово 🎉**\n",
    "\n",
    "### **✅ Результаты**\n",
    "\n",
    "- RMSE на публичной части: **0.57779**\n",
    "- RMSE на приватной части: **0.66125**\n",
    "\n",
    "## **🏆 8 место в лидерборде**"
   ]
  },
  {
   "cell_type": "code",
   "execution_count": null,
   "metadata": {
    "id": "lefSLBiZ5ORe"
   },
   "outputs": [],
   "source": []
  }
 ],
 "metadata": {
  "colab": {
   "provenance": []
  },
  "kernelspec": {
   "display_name": "Python 3",
   "name": "python3"
  },
  "language_info": {
   "codemirror_mode": {
    "name": "ipython",
    "version": 3
   },
   "file_extension": ".py",
   "mimetype": "text/x-python",
   "name": "python",
   "nbconvert_exporter": "python",
   "pygments_lexer": "ipython3",
   "version": "3.12.6"
  }
 },
 "nbformat": 4,
 "nbformat_minor": 0
}
