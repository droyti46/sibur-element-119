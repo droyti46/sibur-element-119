{
  "cells": [
    {
      "cell_type": "markdown",
      "source": [
        "# **🧪 Элемент 119 — AI в химии от СИБУРа**\n",
        "\n",
        "## **📌 Суть задачи**\n",
        "Разработка модели машинного обучения для предсказания липофильности (LogP) органических молекул по их структуре (в формате SMILES).\n",
        "\n",
        "## **🧠 Что такое LogP?**\n",
        "**LogP** — это логарифм отношения концентрации вещества между органической и водной фазами. \\\n",
        "Характеризует «любовь» молекулы к органике (липофильность) и важен в химической промышленности, фармацевтике и материаловедении.\n",
        "\n",
        "$$\n",
        "\\log P = \\log_{10} \\left( \\frac{[C]_{\\text{органическая фаза}}}{[C]_{\\text{водная фаза}}} \\right)\n",
        "$$"
      ],
      "metadata": {
        "id": "x-q3zN3O2cVB"
      }
    },
    {
      "cell_type": "markdown",
      "source": [
        "# **Установка библиотек**\n",
        "Установим все необходимые библиотеки:\n",
        "1. **chemprop** — пакет для машинного обучения, специально разработанный для прогнозирования молекулярных свойств с использованием графовых нейронных сетей (GNN)\n",
        "  - [Github](https://github.com/chemprop/chemprop)\n",
        "  - [Docs](https://chemprop.readthedocs.io/en/latest/)\n",
        "2. **py3Dmol** — это библиотека Python для интерактивной 3D-визуализации молекул прямо в Jupyter Notebook или веб-браузере\n",
        "  - [Github](https://github.com/futureomics/py3Dmol)"
      ],
      "metadata": {
        "id": "e0O4P-AHvihl"
      }
    },
    {
      "cell_type": "code",
      "source": [
        "! pip install chemprop py3Dmol"
      ],
      "metadata": {
        "collapsed": true,
        "id": "g5iTzF940Voy"
      },
      "execution_count": null,
      "outputs": []
    },
    {
      "cell_type": "markdown",
      "source": [
        "# **Импорт библиотек**\n",
        "\n",
        "При возникновении ошибки ```\n",
        "ValueError: numpy.dtype size changed, may indicate binary incompatibility. Expected 96 from C header, got 88 from PyObject``` просто перезагрузите сеанс"
      ],
      "metadata": {
        "id": "2oSUHU2XxXpD"
      }
    },
    {
      "cell_type": "code",
      "source": [
        "# Анализ данных\n",
        "import pandas as pd\n",
        "import numpy as np\n",
        "from tqdm.notebook import tqdm, trange\n",
        "tqdm.pandas()\n",
        "\n",
        "# Хемоинформатика\n",
        "from rdkit import Chem\n",
        "from rdkit.Chem import AllChem\n",
        "import py3Dmol"
      ],
      "metadata": {
        "id": "l2WGrFMQ4dSG"
      },
      "execution_count": 14,
      "outputs": []
    },
    {
      "cell_type": "code",
      "source": [
        "train = pd.read_csv('train.csv')\n",
        "train.head()"
      ],
      "metadata": {
        "colab": {
          "base_uri": "https://localhost:8080/",
          "height": 206
        },
        "id": "hdiiQCzs4fQA",
        "outputId": "c5258751-7580-4368-d3c7-23927308f30a"
      },
      "execution_count": 45,
      "outputs": [
        {
          "output_type": "execute_result",
          "data": {
            "text/plain": [
              "   ID                               SMILES   LogP\n",
              "0   0              C1(NON=C1C2=CC=CC=C2)=N  3.093\n",
              "1   1  C=1C=CC=CC=1CC(NC=2C=CC(=CC=2)Br)=O  5.245\n",
              "2   2                        C(C)C1=CC=CS1  4.294\n",
              "3   3        N1C=CNC1=NC2C(OC)=NC(=NC2Cl)C  2.254\n",
              "4   4                             CC(C)CCO  1.939"
            ],
            "text/html": [
              "\n",
              "  <div id=\"df-3c03762d-2cf2-410c-b7a1-37b8a56bc258\" class=\"colab-df-container\">\n",
              "    <div>\n",
              "<style scoped>\n",
              "    .dataframe tbody tr th:only-of-type {\n",
              "        vertical-align: middle;\n",
              "    }\n",
              "\n",
              "    .dataframe tbody tr th {\n",
              "        vertical-align: top;\n",
              "    }\n",
              "\n",
              "    .dataframe thead th {\n",
              "        text-align: right;\n",
              "    }\n",
              "</style>\n",
              "<table border=\"1\" class=\"dataframe\">\n",
              "  <thead>\n",
              "    <tr style=\"text-align: right;\">\n",
              "      <th></th>\n",
              "      <th>ID</th>\n",
              "      <th>SMILES</th>\n",
              "      <th>LogP</th>\n",
              "    </tr>\n",
              "  </thead>\n",
              "  <tbody>\n",
              "    <tr>\n",
              "      <th>0</th>\n",
              "      <td>0</td>\n",
              "      <td>C1(NON=C1C2=CC=CC=C2)=N</td>\n",
              "      <td>3.093</td>\n",
              "    </tr>\n",
              "    <tr>\n",
              "      <th>1</th>\n",
              "      <td>1</td>\n",
              "      <td>C=1C=CC=CC=1CC(NC=2C=CC(=CC=2)Br)=O</td>\n",
              "      <td>5.245</td>\n",
              "    </tr>\n",
              "    <tr>\n",
              "      <th>2</th>\n",
              "      <td>2</td>\n",
              "      <td>C(C)C1=CC=CS1</td>\n",
              "      <td>4.294</td>\n",
              "    </tr>\n",
              "    <tr>\n",
              "      <th>3</th>\n",
              "      <td>3</td>\n",
              "      <td>N1C=CNC1=NC2C(OC)=NC(=NC2Cl)C</td>\n",
              "      <td>2.254</td>\n",
              "    </tr>\n",
              "    <tr>\n",
              "      <th>4</th>\n",
              "      <td>4</td>\n",
              "      <td>CC(C)CCO</td>\n",
              "      <td>1.939</td>\n",
              "    </tr>\n",
              "  </tbody>\n",
              "</table>\n",
              "</div>\n",
              "    <div class=\"colab-df-buttons\">\n",
              "\n",
              "  <div class=\"colab-df-container\">\n",
              "    <button class=\"colab-df-convert\" onclick=\"convertToInteractive('df-3c03762d-2cf2-410c-b7a1-37b8a56bc258')\"\n",
              "            title=\"Convert this dataframe to an interactive table.\"\n",
              "            style=\"display:none;\">\n",
              "\n",
              "  <svg xmlns=\"http://www.w3.org/2000/svg\" height=\"24px\" viewBox=\"0 -960 960 960\">\n",
              "    <path d=\"M120-120v-720h720v720H120Zm60-500h600v-160H180v160Zm220 220h160v-160H400v160Zm0 220h160v-160H400v160ZM180-400h160v-160H180v160Zm440 0h160v-160H620v160ZM180-180h160v-160H180v160Zm440 0h160v-160H620v160Z\"/>\n",
              "  </svg>\n",
              "    </button>\n",
              "\n",
              "  <style>\n",
              "    .colab-df-container {\n",
              "      display:flex;\n",
              "      gap: 12px;\n",
              "    }\n",
              "\n",
              "    .colab-df-convert {\n",
              "      background-color: #E8F0FE;\n",
              "      border: none;\n",
              "      border-radius: 50%;\n",
              "      cursor: pointer;\n",
              "      display: none;\n",
              "      fill: #1967D2;\n",
              "      height: 32px;\n",
              "      padding: 0 0 0 0;\n",
              "      width: 32px;\n",
              "    }\n",
              "\n",
              "    .colab-df-convert:hover {\n",
              "      background-color: #E2EBFA;\n",
              "      box-shadow: 0px 1px 2px rgba(60, 64, 67, 0.3), 0px 1px 3px 1px rgba(60, 64, 67, 0.15);\n",
              "      fill: #174EA6;\n",
              "    }\n",
              "\n",
              "    .colab-df-buttons div {\n",
              "      margin-bottom: 4px;\n",
              "    }\n",
              "\n",
              "    [theme=dark] .colab-df-convert {\n",
              "      background-color: #3B4455;\n",
              "      fill: #D2E3FC;\n",
              "    }\n",
              "\n",
              "    [theme=dark] .colab-df-convert:hover {\n",
              "      background-color: #434B5C;\n",
              "      box-shadow: 0px 1px 3px 1px rgba(0, 0, 0, 0.15);\n",
              "      filter: drop-shadow(0px 1px 2px rgba(0, 0, 0, 0.3));\n",
              "      fill: #FFFFFF;\n",
              "    }\n",
              "  </style>\n",
              "\n",
              "    <script>\n",
              "      const buttonEl =\n",
              "        document.querySelector('#df-3c03762d-2cf2-410c-b7a1-37b8a56bc258 button.colab-df-convert');\n",
              "      buttonEl.style.display =\n",
              "        google.colab.kernel.accessAllowed ? 'block' : 'none';\n",
              "\n",
              "      async function convertToInteractive(key) {\n",
              "        const element = document.querySelector('#df-3c03762d-2cf2-410c-b7a1-37b8a56bc258');\n",
              "        const dataTable =\n",
              "          await google.colab.kernel.invokeFunction('convertToInteractive',\n",
              "                                                    [key], {});\n",
              "        if (!dataTable) return;\n",
              "\n",
              "        const docLinkHtml = 'Like what you see? Visit the ' +\n",
              "          '<a target=\"_blank\" href=https://colab.research.google.com/notebooks/data_table.ipynb>data table notebook</a>'\n",
              "          + ' to learn more about interactive tables.';\n",
              "        element.innerHTML = '';\n",
              "        dataTable['output_type'] = 'display_data';\n",
              "        await google.colab.output.renderOutput(dataTable, element);\n",
              "        const docLink = document.createElement('div');\n",
              "        docLink.innerHTML = docLinkHtml;\n",
              "        element.appendChild(docLink);\n",
              "      }\n",
              "    </script>\n",
              "  </div>\n",
              "\n",
              "\n",
              "<div id=\"df-54e07d8b-f4bd-418e-940a-f2dfe26f3a48\">\n",
              "  <button class=\"colab-df-quickchart\" onclick=\"quickchart('df-54e07d8b-f4bd-418e-940a-f2dfe26f3a48')\"\n",
              "            title=\"Suggest charts\"\n",
              "            style=\"display:none;\">\n",
              "\n",
              "<svg xmlns=\"http://www.w3.org/2000/svg\" height=\"24px\"viewBox=\"0 0 24 24\"\n",
              "     width=\"24px\">\n",
              "    <g>\n",
              "        <path d=\"M19 3H5c-1.1 0-2 .9-2 2v14c0 1.1.9 2 2 2h14c1.1 0 2-.9 2-2V5c0-1.1-.9-2-2-2zM9 17H7v-7h2v7zm4 0h-2V7h2v10zm4 0h-2v-4h2v4z\"/>\n",
              "    </g>\n",
              "</svg>\n",
              "  </button>\n",
              "\n",
              "<style>\n",
              "  .colab-df-quickchart {\n",
              "      --bg-color: #E8F0FE;\n",
              "      --fill-color: #1967D2;\n",
              "      --hover-bg-color: #E2EBFA;\n",
              "      --hover-fill-color: #174EA6;\n",
              "      --disabled-fill-color: #AAA;\n",
              "      --disabled-bg-color: #DDD;\n",
              "  }\n",
              "\n",
              "  [theme=dark] .colab-df-quickchart {\n",
              "      --bg-color: #3B4455;\n",
              "      --fill-color: #D2E3FC;\n",
              "      --hover-bg-color: #434B5C;\n",
              "      --hover-fill-color: #FFFFFF;\n",
              "      --disabled-bg-color: #3B4455;\n",
              "      --disabled-fill-color: #666;\n",
              "  }\n",
              "\n",
              "  .colab-df-quickchart {\n",
              "    background-color: var(--bg-color);\n",
              "    border: none;\n",
              "    border-radius: 50%;\n",
              "    cursor: pointer;\n",
              "    display: none;\n",
              "    fill: var(--fill-color);\n",
              "    height: 32px;\n",
              "    padding: 0;\n",
              "    width: 32px;\n",
              "  }\n",
              "\n",
              "  .colab-df-quickchart:hover {\n",
              "    background-color: var(--hover-bg-color);\n",
              "    box-shadow: 0 1px 2px rgba(60, 64, 67, 0.3), 0 1px 3px 1px rgba(60, 64, 67, 0.15);\n",
              "    fill: var(--button-hover-fill-color);\n",
              "  }\n",
              "\n",
              "  .colab-df-quickchart-complete:disabled,\n",
              "  .colab-df-quickchart-complete:disabled:hover {\n",
              "    background-color: var(--disabled-bg-color);\n",
              "    fill: var(--disabled-fill-color);\n",
              "    box-shadow: none;\n",
              "  }\n",
              "\n",
              "  .colab-df-spinner {\n",
              "    border: 2px solid var(--fill-color);\n",
              "    border-color: transparent;\n",
              "    border-bottom-color: var(--fill-color);\n",
              "    animation:\n",
              "      spin 1s steps(1) infinite;\n",
              "  }\n",
              "\n",
              "  @keyframes spin {\n",
              "    0% {\n",
              "      border-color: transparent;\n",
              "      border-bottom-color: var(--fill-color);\n",
              "      border-left-color: var(--fill-color);\n",
              "    }\n",
              "    20% {\n",
              "      border-color: transparent;\n",
              "      border-left-color: var(--fill-color);\n",
              "      border-top-color: var(--fill-color);\n",
              "    }\n",
              "    30% {\n",
              "      border-color: transparent;\n",
              "      border-left-color: var(--fill-color);\n",
              "      border-top-color: var(--fill-color);\n",
              "      border-right-color: var(--fill-color);\n",
              "    }\n",
              "    40% {\n",
              "      border-color: transparent;\n",
              "      border-right-color: var(--fill-color);\n",
              "      border-top-color: var(--fill-color);\n",
              "    }\n",
              "    60% {\n",
              "      border-color: transparent;\n",
              "      border-right-color: var(--fill-color);\n",
              "    }\n",
              "    80% {\n",
              "      border-color: transparent;\n",
              "      border-right-color: var(--fill-color);\n",
              "      border-bottom-color: var(--fill-color);\n",
              "    }\n",
              "    90% {\n",
              "      border-color: transparent;\n",
              "      border-bottom-color: var(--fill-color);\n",
              "    }\n",
              "  }\n",
              "</style>\n",
              "\n",
              "  <script>\n",
              "    async function quickchart(key) {\n",
              "      const quickchartButtonEl =\n",
              "        document.querySelector('#' + key + ' button');\n",
              "      quickchartButtonEl.disabled = true;  // To prevent multiple clicks.\n",
              "      quickchartButtonEl.classList.add('colab-df-spinner');\n",
              "      try {\n",
              "        const charts = await google.colab.kernel.invokeFunction(\n",
              "            'suggestCharts', [key], {});\n",
              "      } catch (error) {\n",
              "        console.error('Error during call to suggestCharts:', error);\n",
              "      }\n",
              "      quickchartButtonEl.classList.remove('colab-df-spinner');\n",
              "      quickchartButtonEl.classList.add('colab-df-quickchart-complete');\n",
              "    }\n",
              "    (() => {\n",
              "      let quickchartButtonEl =\n",
              "        document.querySelector('#df-54e07d8b-f4bd-418e-940a-f2dfe26f3a48 button');\n",
              "      quickchartButtonEl.style.display =\n",
              "        google.colab.kernel.accessAllowed ? 'block' : 'none';\n",
              "    })();\n",
              "  </script>\n",
              "</div>\n",
              "    </div>\n",
              "  </div>\n"
            ],
            "application/vnd.google.colaboratory.intrinsic+json": {
              "type": "dataframe",
              "variable_name": "train",
              "summary": "{\n  \"name\": \"train\",\n  \"rows\": 13403,\n  \"fields\": [\n    {\n      \"column\": \"ID\",\n      \"properties\": {\n        \"dtype\": \"number\",\n        \"std\": 3869,\n        \"min\": 0,\n        \"max\": 13402,\n        \"num_unique_values\": 13403,\n        \"samples\": [\n          12750,\n          7187,\n          457\n        ],\n        \"semantic_type\": \"\",\n        \"description\": \"\"\n      }\n    },\n    {\n      \"column\": \"SMILES\",\n      \"properties\": {\n        \"dtype\": \"string\",\n        \"num_unique_values\": 11348,\n        \"samples\": [\n          \"ClC(Cl)(Cl)C1=NC(NC(=N1)SC)=NCC\",\n          \"N=C1NC2=C(C(N1)=O)NC(N)=C2CC3=CSC=C3\",\n          \"C1CN(CCN1CC2CN=C(O2)N)C3=CC=C(C=C3)OC\"\n        ],\n        \"semantic_type\": \"\",\n        \"description\": \"\"\n      }\n    },\n    {\n      \"column\": \"LogP\",\n      \"properties\": {\n        \"dtype\": \"number\",\n        \"std\": 2.3310797852825833,\n        \"min\": -15.72,\n        \"max\": 22.701,\n        \"num_unique_values\": 6472,\n        \"samples\": [\n          4.046,\n          9.49,\n          1.624\n        ],\n        \"semantic_type\": \"\",\n        \"description\": \"\"\n      }\n    }\n  ]\n}"
            }
          },
          "metadata": {},
          "execution_count": 45
        }
      ]
    },
    {
      "cell_type": "code",
      "source": [
        "def visualize_3d_molecule(smiles: str, width: int = 400, height: int = 600) -> None:\n",
        "\n",
        "    '''\n",
        "    Визуализирует молекулу в 3D\n",
        "\n",
        "    Параметры:\n",
        "        smiles (str): молекула в формате SMILES\n",
        "        width (int), height (int): ширина и высота отрисованного окна с 3D молекулой\n",
        "    '''\n",
        "\n",
        "    # Создаем молекулу из SMILES\n",
        "    mol = Chem.MolFromSmiles(smiles)\n",
        "\n",
        "    if mol is None:\n",
        "        raise ValueError('Неверная SMILES строка')\n",
        "\n",
        "    # Добавляем атомы водорода (если их нет в SMILES)\n",
        "    mol = Chem.AddHs(mol)\n",
        "\n",
        "    # Генерируем 3D координаты\n",
        "    AllChem.EmbedMolecule(mol)\n",
        "    AllChem.MMFFOptimizeMolecule(mol)\n",
        "\n",
        "    # Конвертируем в формат PDB\n",
        "    pdb_block = Chem.MolToPDBBlock(mol)\n",
        "\n",
        "    # Визуализируем с помощью py3Dmol\n",
        "    viewer = py3Dmol.view(width=width, height=height)\n",
        "    viewer.addModel(pdb_block, 'pdb')\n",
        "    viewer.setStyle({'stick': {}})\n",
        "    viewer.zoomTo()\n",
        "    viewer.show()\n",
        "\n",
        "    return mol"
      ],
      "metadata": {
        "id": "a_278w9ioo0w"
      },
      "execution_count": 10,
      "outputs": []
    },
    {
      "cell_type": "code",
      "source": [
        "import random\n",
        "\n",
        "random.seed(42)\n",
        "random_indices = [random.randint(0, len(train) - 1) for _ in range(5)]\n",
        "\n",
        "for index in random_indices:\n",
        "    visualize_3d_molecule(train.SMILES[index])"
      ],
      "metadata": {
        "colab": {
          "base_uri": "https://localhost:8080/",
          "height": 1000
        },
        "id": "jSSxPV7eor1V",
        "outputId": "740a473c-06b9-44f4-e964-9b51d12d431a"
      },
      "execution_count": 11,
      "outputs": [
        {
          "output_type": "display_data",
          "data": {
            "application/3dmoljs_load.v0": "<div id=\"3dmolviewer_17452296851114087\"  style=\"position: relative; width: 400px; height: 600px;\">\n        <p id=\"3dmolwarning_17452296851114087\" style=\"background-color:#ffcccc;color:black\">3Dmol.js failed to load for some reason.  Please check your browser console for error messages.<br></p>\n        </div>\n<script>\n\nvar loadScriptAsync = function(uri){\n  return new Promise((resolve, reject) => {\n    //this is to ignore the existence of requirejs amd\n    var savedexports, savedmodule;\n    if (typeof exports !== 'undefined') savedexports = exports;\n    else exports = {}\n    if (typeof module !== 'undefined') savedmodule = module;\n    else module = {}\n\n    var tag = document.createElement('script');\n    tag.src = uri;\n    tag.async = true;\n    tag.onload = () => {\n        exports = savedexports;\n        module = savedmodule;\n        resolve();\n    };\n  var firstScriptTag = document.getElementsByTagName('script')[0];\n  firstScriptTag.parentNode.insertBefore(tag, firstScriptTag);\n});\n};\n\nif(typeof $3Dmolpromise === 'undefined') {\n$3Dmolpromise = null;\n  $3Dmolpromise = loadScriptAsync('https://cdnjs.cloudflare.com/ajax/libs/3Dmol/2.4.2/3Dmol-min.js');\n}\n\nvar viewer_17452296851114087 = null;\nvar warn = document.getElementById(\"3dmolwarning_17452296851114087\");\nif(warn) {\n    warn.parentNode.removeChild(warn);\n}\n$3Dmolpromise.then(function() {\nviewer_17452296851114087 = $3Dmol.createViewer(document.getElementById(\"3dmolviewer_17452296851114087\"),{backgroundColor:\"white\"});\nviewer_17452296851114087.zoomTo();\n\tviewer_17452296851114087.addModel(\"HETATM    1  O1  UNL     1       4.213  -0.815  -0.445  1.00  0.00           O  \\nHETATM    2  C1  UNL     1       3.238   0.205  -0.355  1.00  0.00           C  \\nHETATM    3  C2  UNL     1       3.635   1.466  -0.795  1.00  0.00           C  \\nHETATM    4  C3  UNL     1       2.749   2.538  -0.690  1.00  0.00           C  \\nHETATM    5  C4  UNL     1       1.478   2.350  -0.135  1.00  0.00           C  \\nHETATM    6  C5  UNL     1       1.080   1.088   0.315  1.00  0.00           C  \\nHETATM    7  N1  UNL     1      -0.182   0.813   0.880  1.00  0.00           N  \\nHETATM    8  C6  UNL     1      -1.218   1.702   1.121  1.00  0.00           C  \\nHETATM    9  C7  UNL     1      -2.431   1.028   1.747  1.00  0.00           C  \\nHETATM   10  C8  UNL     1      -3.273   0.296   0.732  1.00  0.00           C  \\nHETATM   11  C9  UNL     1      -4.024   1.019  -0.207  1.00  0.00           C  \\nHETATM   12  C10 UNL     1      -4.794   0.352  -1.160  1.00  0.00           C  \\nHETATM   13  C11 UNL     1      -4.819  -1.042  -1.187  1.00  0.00           C  \\nHETATM   14  C12 UNL     1      -4.078  -1.771  -0.258  1.00  0.00           C  \\nHETATM   15  C13 UNL     1      -3.309  -1.107   0.700  1.00  0.00           C  \\nHETATM   16  O2  UNL     1      -1.216   2.908   0.892  1.00  0.00           O  \\nHETATM   17  C14 UNL     1       1.976   0.013   0.210  1.00  0.00           C  \\nHETATM   18  C15 UNL     1       3.862  -2.148  -0.663  1.00  0.00           C  \\nHETATM   19  C16 UNL     1       5.107  -2.986  -0.676  1.00  0.00           C  \\nHETATM   20  O3  UNL     1       2.737  -2.589  -0.850  1.00  0.00           O  \\nHETATM   21  H1  UNL     1       4.625   1.617  -1.215  1.00  0.00           H  \\nHETATM   22  H2  UNL     1       3.044   3.527  -1.034  1.00  0.00           H  \\nHETATM   23  H3  UNL     1       0.820   3.212  -0.072  1.00  0.00           H  \\nHETATM   24  H4  UNL     1      -0.370  -0.163   1.079  1.00  0.00           H  \\nHETATM   25  H5  UNL     1      -2.095   0.352   2.543  1.00  0.00           H  \\nHETATM   26  H6  UNL     1      -3.040   1.794   2.245  1.00  0.00           H  \\nHETATM   27  H7  UNL     1      -4.006   2.110  -0.204  1.00  0.00           H  \\nHETATM   28  H8  UNL     1      -5.368   0.922  -1.886  1.00  0.00           H  \\nHETATM   29  H9  UNL     1      -5.410  -1.563  -1.935  1.00  0.00           H  \\nHETATM   30  H10 UNL     1      -4.098  -2.860  -0.283  1.00  0.00           H  \\nHETATM   31  H11 UNL     1      -2.740  -1.698   1.417  1.00  0.00           H  \\nHETATM   32  H12 UNL     1       1.690  -0.970   0.577  1.00  0.00           H  \\nHETATM   33  H13 UNL     1       5.847  -2.585   0.022  1.00  0.00           H  \\nHETATM   34  H14 UNL     1       4.856  -3.997  -0.343  1.00  0.00           H  \\nHETATM   35  H15 UNL     1       5.514  -3.020  -1.687  1.00  0.00           H  \\nCONECT    1    2   18\\nCONECT    2    3    3   17\\nCONECT    3    4   21\\nCONECT    4    5    5   22\\nCONECT    5    6   23\\nCONECT    6    7   17   17\\nCONECT    7    8   24\\nCONECT    8    9   16   16\\nCONECT    9   10   25   26\\nCONECT   10   11   11   15\\nCONECT   11   12   27\\nCONECT   12   13   13   28\\nCONECT   13   14   29\\nCONECT   14   15   15   30\\nCONECT   15   31\\nCONECT   17   32\\nCONECT   18   19   20   20\\nCONECT   19   33   34   35\\nEND\\n\",\"pdb\");\n\tviewer_17452296851114087.setStyle({\"stick\": {}});\n\tviewer_17452296851114087.zoomTo();\nviewer_17452296851114087.render();\n});\n</script>",
            "text/html": [
              "<div id=\"3dmolviewer_17452296851114087\"  style=\"position: relative; width: 400px; height: 600px;\">\n",
              "        <p id=\"3dmolwarning_17452296851114087\" style=\"background-color:#ffcccc;color:black\">3Dmol.js failed to load for some reason.  Please check your browser console for error messages.<br></p>\n",
              "        </div>\n",
              "<script>\n",
              "\n",
              "var loadScriptAsync = function(uri){\n",
              "  return new Promise((resolve, reject) => {\n",
              "    //this is to ignore the existence of requirejs amd\n",
              "    var savedexports, savedmodule;\n",
              "    if (typeof exports !== 'undefined') savedexports = exports;\n",
              "    else exports = {}\n",
              "    if (typeof module !== 'undefined') savedmodule = module;\n",
              "    else module = {}\n",
              "\n",
              "    var tag = document.createElement('script');\n",
              "    tag.src = uri;\n",
              "    tag.async = true;\n",
              "    tag.onload = () => {\n",
              "        exports = savedexports;\n",
              "        module = savedmodule;\n",
              "        resolve();\n",
              "    };\n",
              "  var firstScriptTag = document.getElementsByTagName('script')[0];\n",
              "  firstScriptTag.parentNode.insertBefore(tag, firstScriptTag);\n",
              "});\n",
              "};\n",
              "\n",
              "if(typeof $3Dmolpromise === 'undefined') {\n",
              "$3Dmolpromise = null;\n",
              "  $3Dmolpromise = loadScriptAsync('https://cdnjs.cloudflare.com/ajax/libs/3Dmol/2.4.2/3Dmol-min.js');\n",
              "}\n",
              "\n",
              "var viewer_17452296851114087 = null;\n",
              "var warn = document.getElementById(\"3dmolwarning_17452296851114087\");\n",
              "if(warn) {\n",
              "    warn.parentNode.removeChild(warn);\n",
              "}\n",
              "$3Dmolpromise.then(function() {\n",
              "viewer_17452296851114087 = $3Dmol.createViewer(document.getElementById(\"3dmolviewer_17452296851114087\"),{backgroundColor:\"white\"});\n",
              "viewer_17452296851114087.zoomTo();\n",
              "\tviewer_17452296851114087.addModel(\"HETATM    1  O1  UNL     1       4.213  -0.815  -0.445  1.00  0.00           O  \\nHETATM    2  C1  UNL     1       3.238   0.205  -0.355  1.00  0.00           C  \\nHETATM    3  C2  UNL     1       3.635   1.466  -0.795  1.00  0.00           C  \\nHETATM    4  C3  UNL     1       2.749   2.538  -0.690  1.00  0.00           C  \\nHETATM    5  C4  UNL     1       1.478   2.350  -0.135  1.00  0.00           C  \\nHETATM    6  C5  UNL     1       1.080   1.088   0.315  1.00  0.00           C  \\nHETATM    7  N1  UNL     1      -0.182   0.813   0.880  1.00  0.00           N  \\nHETATM    8  C6  UNL     1      -1.218   1.702   1.121  1.00  0.00           C  \\nHETATM    9  C7  UNL     1      -2.431   1.028   1.747  1.00  0.00           C  \\nHETATM   10  C8  UNL     1      -3.273   0.296   0.732  1.00  0.00           C  \\nHETATM   11  C9  UNL     1      -4.024   1.019  -0.207  1.00  0.00           C  \\nHETATM   12  C10 UNL     1      -4.794   0.352  -1.160  1.00  0.00           C  \\nHETATM   13  C11 UNL     1      -4.819  -1.042  -1.187  1.00  0.00           C  \\nHETATM   14  C12 UNL     1      -4.078  -1.771  -0.258  1.00  0.00           C  \\nHETATM   15  C13 UNL     1      -3.309  -1.107   0.700  1.00  0.00           C  \\nHETATM   16  O2  UNL     1      -1.216   2.908   0.892  1.00  0.00           O  \\nHETATM   17  C14 UNL     1       1.976   0.013   0.210  1.00  0.00           C  \\nHETATM   18  C15 UNL     1       3.862  -2.148  -0.663  1.00  0.00           C  \\nHETATM   19  C16 UNL     1       5.107  -2.986  -0.676  1.00  0.00           C  \\nHETATM   20  O3  UNL     1       2.737  -2.589  -0.850  1.00  0.00           O  \\nHETATM   21  H1  UNL     1       4.625   1.617  -1.215  1.00  0.00           H  \\nHETATM   22  H2  UNL     1       3.044   3.527  -1.034  1.00  0.00           H  \\nHETATM   23  H3  UNL     1       0.820   3.212  -0.072  1.00  0.00           H  \\nHETATM   24  H4  UNL     1      -0.370  -0.163   1.079  1.00  0.00           H  \\nHETATM   25  H5  UNL     1      -2.095   0.352   2.543  1.00  0.00           H  \\nHETATM   26  H6  UNL     1      -3.040   1.794   2.245  1.00  0.00           H  \\nHETATM   27  H7  UNL     1      -4.006   2.110  -0.204  1.00  0.00           H  \\nHETATM   28  H8  UNL     1      -5.368   0.922  -1.886  1.00  0.00           H  \\nHETATM   29  H9  UNL     1      -5.410  -1.563  -1.935  1.00  0.00           H  \\nHETATM   30  H10 UNL     1      -4.098  -2.860  -0.283  1.00  0.00           H  \\nHETATM   31  H11 UNL     1      -2.740  -1.698   1.417  1.00  0.00           H  \\nHETATM   32  H12 UNL     1       1.690  -0.970   0.577  1.00  0.00           H  \\nHETATM   33  H13 UNL     1       5.847  -2.585   0.022  1.00  0.00           H  \\nHETATM   34  H14 UNL     1       4.856  -3.997  -0.343  1.00  0.00           H  \\nHETATM   35  H15 UNL     1       5.514  -3.020  -1.687  1.00  0.00           H  \\nCONECT    1    2   18\\nCONECT    2    3    3   17\\nCONECT    3    4   21\\nCONECT    4    5    5   22\\nCONECT    5    6   23\\nCONECT    6    7   17   17\\nCONECT    7    8   24\\nCONECT    8    9   16   16\\nCONECT    9   10   25   26\\nCONECT   10   11   11   15\\nCONECT   11   12   27\\nCONECT   12   13   13   28\\nCONECT   13   14   29\\nCONECT   14   15   15   30\\nCONECT   15   31\\nCONECT   17   32\\nCONECT   18   19   20   20\\nCONECT   19   33   34   35\\nEND\\n\",\"pdb\");\n",
              "\tviewer_17452296851114087.setStyle({\"stick\": {}});\n",
              "\tviewer_17452296851114087.zoomTo();\n",
              "viewer_17452296851114087.render();\n",
              "});\n",
              "</script>"
            ]
          },
          "metadata": {}
        },
        {
          "output_type": "display_data",
          "data": {
            "application/3dmoljs_load.v0": "<div id=\"3dmolviewer_17452296855634775\"  style=\"position: relative; width: 400px; height: 600px;\">\n        <p id=\"3dmolwarning_17452296855634775\" style=\"background-color:#ffcccc;color:black\">3Dmol.js failed to load for some reason.  Please check your browser console for error messages.<br></p>\n        </div>\n<script>\n\nvar loadScriptAsync = function(uri){\n  return new Promise((resolve, reject) => {\n    //this is to ignore the existence of requirejs amd\n    var savedexports, savedmodule;\n    if (typeof exports !== 'undefined') savedexports = exports;\n    else exports = {}\n    if (typeof module !== 'undefined') savedmodule = module;\n    else module = {}\n\n    var tag = document.createElement('script');\n    tag.src = uri;\n    tag.async = true;\n    tag.onload = () => {\n        exports = savedexports;\n        module = savedmodule;\n        resolve();\n    };\n  var firstScriptTag = document.getElementsByTagName('script')[0];\n  firstScriptTag.parentNode.insertBefore(tag, firstScriptTag);\n});\n};\n\nif(typeof $3Dmolpromise === 'undefined') {\n$3Dmolpromise = null;\n  $3Dmolpromise = loadScriptAsync('https://cdnjs.cloudflare.com/ajax/libs/3Dmol/2.4.2/3Dmol-min.js');\n}\n\nvar viewer_17452296855634775 = null;\nvar warn = document.getElementById(\"3dmolwarning_17452296855634775\");\nif(warn) {\n    warn.parentNode.removeChild(warn);\n}\n$3Dmolpromise.then(function() {\nviewer_17452296855634775 = $3Dmol.createViewer(document.getElementById(\"3dmolviewer_17452296855634775\"),{backgroundColor:\"white\"});\nviewer_17452296855634775.zoomTo();\n\tviewer_17452296855634775.addModel(\"HETATM    1  C1  UNL     1     -14.351   1.823   2.992  1.00  0.00           C  \\nHETATM    2  C2  UNL     1     -14.460   0.564   2.146  1.00  0.00           C  \\nHETATM    3  C3  UNL     1     -12.912   2.257   3.290  1.00  0.00           C  \\nHETATM    4  C4  UNL     1     -12.248   3.099   2.194  1.00  0.00           C  \\nHETATM    5  N1  UNL     1     -11.867   2.329   1.018  1.00  0.00           N  \\nHETATM    6  C5  UNL     1     -10.819   1.416   1.018  1.00  0.00           C  \\nHETATM    7  C6  UNL     1      -9.791   1.411   1.967  1.00  0.00           C  \\nHETATM    8  C7  UNL     1      -8.722   0.511   1.881  1.00  0.00           C  \\nHETATM    9  C8  UNL     1      -8.644  -0.394   0.819  1.00  0.00           C  \\nHETATM   10  C9  UNL     1      -9.647  -0.385  -0.153  1.00  0.00           C  \\nHETATM   11  C10 UNL     1     -10.711   0.521  -0.055  1.00  0.00           C  \\nHETATM   12  C11 UNL     1      -7.486  -1.325   0.771  1.00  0.00           C  \\nHETATM   13  O1  UNL     1      -7.430  -1.961  -0.425  1.00  0.00           O  \\nHETATM   14  C12 UNL     1      -6.333  -2.875  -0.584  1.00  0.00           C  \\nHETATM   15  C13 UNL     1      -5.065  -2.142  -1.021  1.00  0.00           C  \\nHETATM   16  O2  UNL     1      -3.954  -3.021  -1.185  1.00  0.00           O  \\nHETATM   17  C14 UNL     1      -3.982  -3.774  -2.397  1.00  0.00           C  \\nHETATM   18  C15 UNL     1      -2.653  -4.517  -2.563  1.00  0.00           C  \\nHETATM   19  O3  UNL     1      -1.535  -3.652  -2.777  1.00  0.00           O  \\nHETATM   20  C16 UNL     1      -1.426  -3.113  -4.095  1.00  0.00           C  \\nHETATM   21  C17 UNL     1      -1.739  -1.610  -4.124  1.00  0.00           C  \\nHETATM   22  O4  UNL     1      -0.965  -0.865  -3.186  1.00  0.00           O  \\nHETATM   23  C18 UNL     1       0.389  -0.648  -3.575  1.00  0.00           C  \\nHETATM   24  C19 UNL     1       1.294  -0.872  -2.368  1.00  0.00           C  \\nHETATM   25  O5  UNL     1       2.638  -0.532  -2.712  1.00  0.00           O  \\nHETATM   26  C20 UNL     1       3.491  -0.468  -1.564  1.00  0.00           C  \\nHETATM   27  C21 UNL     1       3.460   0.925  -0.924  1.00  0.00           C  \\nHETATM   28  O6  UNL     1       4.157   0.976   0.320  1.00  0.00           O  \\nHETATM   29  C22 UNL     1       5.577   0.970   0.176  1.00  0.00           C  \\nHETATM   30  C23 UNL     1       6.212   1.293   1.528  1.00  0.00           C  \\nHETATM   31  O7  UNL     1       7.636   1.345   1.438  1.00  0.00           O  \\nHETATM   32  C24 UNL     1       8.248   0.068   1.663  1.00  0.00           C  \\nHETATM   33  C25 UNL     1       9.732   0.146   1.306  1.00  0.00           C  \\nHETATM   34  O8  UNL     1       9.863   0.178  -0.121  1.00  0.00           O  \\nHETATM   35  C26 UNL     1      11.209   0.017  -0.579  1.00  0.00           C  \\nHETATM   36  C27 UNL     1      12.121   1.193  -0.221  1.00  0.00           C  \\nHETATM   37  O9  UNL     1      12.677   0.990   1.086  1.00  0.00           O  \\nHETATM   38  C28 UNL     1      13.615   2.004   1.451  1.00  0.00           C  \\nHETATM   39  C29 UNL     1      15.020   1.686   0.931  1.00  0.00           C  \\nHETATM   40  O10 UNL     1      15.957   2.706   1.268  1.00  0.00           O  \\nHETATM   41  C30 UNL     1      16.493   2.558   2.575  1.00  0.00           C  \\nHETATM   42  O11 UNL     1      -6.696  -1.461   1.690  1.00  0.00           O  \\nHETATM   43  H1  UNL     1     -14.909   2.640   2.519  1.00  0.00           H  \\nHETATM   44  H2  UNL     1     -14.849   1.621   3.948  1.00  0.00           H  \\nHETATM   45  H3  UNL     1     -15.510   0.269   2.048  1.00  0.00           H  \\nHETATM   46  H4  UNL     1     -13.919  -0.266   2.607  1.00  0.00           H  \\nHETATM   47  H5  UNL     1     -14.077   0.715   1.137  1.00  0.00           H  \\nHETATM   48  H6  UNL     1     -12.303   1.384   3.546  1.00  0.00           H  \\nHETATM   49  H7  UNL     1     -12.947   2.885   4.189  1.00  0.00           H  \\nHETATM   50  H8  UNL     1     -12.937   3.893   1.876  1.00  0.00           H  \\nHETATM   51  H9  UNL     1     -11.378   3.624   2.604  1.00  0.00           H  \\nHETATM   52  H10 UNL     1     -12.649   2.065   0.429  1.00  0.00           H  \\nHETATM   53  H11 UNL     1      -9.794   2.112   2.796  1.00  0.00           H  \\nHETATM   54  H12 UNL     1      -7.944   0.533   2.642  1.00  0.00           H  \\nHETATM   55  H13 UNL     1      -9.618  -1.069  -0.997  1.00  0.00           H  \\nHETATM   56  H14 UNL     1     -11.464   0.522  -0.841  1.00  0.00           H  \\nHETATM   57  H15 UNL     1      -6.635  -3.594  -1.351  1.00  0.00           H  \\nHETATM   58  H16 UNL     1      -6.162  -3.461   0.326  1.00  0.00           H  \\nHETATM   59  H17 UNL     1      -5.240  -1.565  -1.938  1.00  0.00           H  \\nHETATM   60  H18 UNL     1      -4.784  -1.411  -0.256  1.00  0.00           H  \\nHETATM   61  H19 UNL     1      -4.794  -4.505  -2.340  1.00  0.00           H  \\nHETATM   62  H20 UNL     1      -4.161  -3.110  -3.246  1.00  0.00           H  \\nHETATM   63  H21 UNL     1      -2.713  -5.249  -3.376  1.00  0.00           H  \\nHETATM   64  H22 UNL     1      -2.439  -5.069  -1.641  1.00  0.00           H  \\nHETATM   65  H23 UNL     1      -0.389  -3.277  -4.403  1.00  0.00           H  \\nHETATM   66  H24 UNL     1      -2.068  -3.650  -4.802  1.00  0.00           H  \\nHETATM   67  H25 UNL     1      -1.603  -1.202  -5.132  1.00  0.00           H  \\nHETATM   68  H26 UNL     1      -2.785  -1.448  -3.847  1.00  0.00           H  \\nHETATM   69  H27 UNL     1       0.705  -1.285  -4.411  1.00  0.00           H  \\nHETATM   70  H28 UNL     1       0.488   0.391  -3.918  1.00  0.00           H  \\nHETATM   71  H29 UNL     1       1.251  -1.927  -2.065  1.00  0.00           H  \\nHETATM   72  H30 UNL     1       0.937  -0.273  -1.522  1.00  0.00           H  \\nHETATM   73  H31 UNL     1       3.240  -1.254  -0.839  1.00  0.00           H  \\nHETATM   74  H32 UNL     1       4.505  -0.683  -1.912  1.00  0.00           H  \\nHETATM   75  H33 UNL     1       3.853   1.679  -1.617  1.00  0.00           H  \\nHETATM   76  H34 UNL     1       2.424   1.217  -0.721  1.00  0.00           H  \\nHETATM   77  H35 UNL     1       5.893   1.717  -0.561  1.00  0.00           H  \\nHETATM   78  H36 UNL     1       5.911  -0.010  -0.179  1.00  0.00           H  \\nHETATM   79  H37 UNL     1       5.867   2.282   1.852  1.00  0.00           H  \\nHETATM   80  H38 UNL     1       5.885   0.585   2.301  1.00  0.00           H  \\nHETATM   81  H39 UNL     1       7.755  -0.695   1.052  1.00  0.00           H  \\nHETATM   82  H40 UNL     1       8.135  -0.183   2.724  1.00  0.00           H  \\nHETATM   83  H41 UNL     1      10.166   1.055   1.734  1.00  0.00           H  \\nHETATM   84  H42 UNL     1      10.246  -0.738   1.697  1.00  0.00           H  \\nHETATM   85  H43 UNL     1      11.611  -0.931  -0.205  1.00  0.00           H  \\nHETATM   86  H44 UNL     1      11.141  -0.048  -1.669  1.00  0.00           H  \\nHETATM   87  H45 UNL     1      12.935   1.240  -0.948  1.00  0.00           H  \\nHETATM   88  H46 UNL     1      11.560   2.134  -0.236  1.00  0.00           H  \\nHETATM   89  H47 UNL     1      13.628   2.041   2.544  1.00  0.00           H  \\nHETATM   90  H48 UNL     1      13.279   2.995   1.117  1.00  0.00           H  \\nHETATM   91  H49 UNL     1      15.360   0.704   1.284  1.00  0.00           H  \\nHETATM   92  H50 UNL     1      15.001   1.621  -0.160  1.00  0.00           H  \\nHETATM   93  H51 UNL     1      15.706   2.644   3.334  1.00  0.00           H  \\nHETATM   94  H52 UNL     1      17.010   1.597   2.671  1.00  0.00           H  \\nHETATM   95  H53 UNL     1      17.220   3.361   2.739  1.00  0.00           H  \\nCONECT    1    2    3   43   44\\nCONECT    2   45   46   47\\nCONECT    3    4   48   49\\nCONECT    4    5   50   51\\nCONECT    5    6   52\\nCONECT    6    7    7   11\\nCONECT    7    8   53\\nCONECT    8    9    9   54\\nCONECT    9   10   12\\nCONECT   10   11   11   55\\nCONECT   11   56\\nCONECT   12   13   42   42\\nCONECT   13   14\\nCONECT   14   15   57   58\\nCONECT   15   16   59   60\\nCONECT   16   17\\nCONECT   17   18   61   62\\nCONECT   18   19   63   64\\nCONECT   19   20\\nCONECT   20   21   65   66\\nCONECT   21   22   67   68\\nCONECT   22   23\\nCONECT   23   24   69   70\\nCONECT   24   25   71   72\\nCONECT   25   26\\nCONECT   26   27   73   74\\nCONECT   27   28   75   76\\nCONECT   28   29\\nCONECT   29   30   77   78\\nCONECT   30   31   79   80\\nCONECT   31   32\\nCONECT   32   33   81   82\\nCONECT   33   34   83   84\\nCONECT   34   35\\nCONECT   35   36   85   86\\nCONECT   36   37   87   88\\nCONECT   37   38\\nCONECT   38   39   89   90\\nCONECT   39   40   91   92\\nCONECT   40   41\\nCONECT   41   93   94   95\\nEND\\n\",\"pdb\");\n\tviewer_17452296855634775.setStyle({\"stick\": {}});\n\tviewer_17452296855634775.zoomTo();\nviewer_17452296855634775.render();\n});\n</script>",
            "text/html": [
              "<div id=\"3dmolviewer_17452296855634775\"  style=\"position: relative; width: 400px; height: 600px;\">\n",
              "        <p id=\"3dmolwarning_17452296855634775\" style=\"background-color:#ffcccc;color:black\">3Dmol.js failed to load for some reason.  Please check your browser console for error messages.<br></p>\n",
              "        </div>\n",
              "<script>\n",
              "\n",
              "var loadScriptAsync = function(uri){\n",
              "  return new Promise((resolve, reject) => {\n",
              "    //this is to ignore the existence of requirejs amd\n",
              "    var savedexports, savedmodule;\n",
              "    if (typeof exports !== 'undefined') savedexports = exports;\n",
              "    else exports = {}\n",
              "    if (typeof module !== 'undefined') savedmodule = module;\n",
              "    else module = {}\n",
              "\n",
              "    var tag = document.createElement('script');\n",
              "    tag.src = uri;\n",
              "    tag.async = true;\n",
              "    tag.onload = () => {\n",
              "        exports = savedexports;\n",
              "        module = savedmodule;\n",
              "        resolve();\n",
              "    };\n",
              "  var firstScriptTag = document.getElementsByTagName('script')[0];\n",
              "  firstScriptTag.parentNode.insertBefore(tag, firstScriptTag);\n",
              "});\n",
              "};\n",
              "\n",
              "if(typeof $3Dmolpromise === 'undefined') {\n",
              "$3Dmolpromise = null;\n",
              "  $3Dmolpromise = loadScriptAsync('https://cdnjs.cloudflare.com/ajax/libs/3Dmol/2.4.2/3Dmol-min.js');\n",
              "}\n",
              "\n",
              "var viewer_17452296855634775 = null;\n",
              "var warn = document.getElementById(\"3dmolwarning_17452296855634775\");\n",
              "if(warn) {\n",
              "    warn.parentNode.removeChild(warn);\n",
              "}\n",
              "$3Dmolpromise.then(function() {\n",
              "viewer_17452296855634775 = $3Dmol.createViewer(document.getElementById(\"3dmolviewer_17452296855634775\"),{backgroundColor:\"white\"});\n",
              "viewer_17452296855634775.zoomTo();\n",
              "\tviewer_17452296855634775.addModel(\"HETATM    1  C1  UNL     1     -14.351   1.823   2.992  1.00  0.00           C  \\nHETATM    2  C2  UNL     1     -14.460   0.564   2.146  1.00  0.00           C  \\nHETATM    3  C3  UNL     1     -12.912   2.257   3.290  1.00  0.00           C  \\nHETATM    4  C4  UNL     1     -12.248   3.099   2.194  1.00  0.00           C  \\nHETATM    5  N1  UNL     1     -11.867   2.329   1.018  1.00  0.00           N  \\nHETATM    6  C5  UNL     1     -10.819   1.416   1.018  1.00  0.00           C  \\nHETATM    7  C6  UNL     1      -9.791   1.411   1.967  1.00  0.00           C  \\nHETATM    8  C7  UNL     1      -8.722   0.511   1.881  1.00  0.00           C  \\nHETATM    9  C8  UNL     1      -8.644  -0.394   0.819  1.00  0.00           C  \\nHETATM   10  C9  UNL     1      -9.647  -0.385  -0.153  1.00  0.00           C  \\nHETATM   11  C10 UNL     1     -10.711   0.521  -0.055  1.00  0.00           C  \\nHETATM   12  C11 UNL     1      -7.486  -1.325   0.771  1.00  0.00           C  \\nHETATM   13  O1  UNL     1      -7.430  -1.961  -0.425  1.00  0.00           O  \\nHETATM   14  C12 UNL     1      -6.333  -2.875  -0.584  1.00  0.00           C  \\nHETATM   15  C13 UNL     1      -5.065  -2.142  -1.021  1.00  0.00           C  \\nHETATM   16  O2  UNL     1      -3.954  -3.021  -1.185  1.00  0.00           O  \\nHETATM   17  C14 UNL     1      -3.982  -3.774  -2.397  1.00  0.00           C  \\nHETATM   18  C15 UNL     1      -2.653  -4.517  -2.563  1.00  0.00           C  \\nHETATM   19  O3  UNL     1      -1.535  -3.652  -2.777  1.00  0.00           O  \\nHETATM   20  C16 UNL     1      -1.426  -3.113  -4.095  1.00  0.00           C  \\nHETATM   21  C17 UNL     1      -1.739  -1.610  -4.124  1.00  0.00           C  \\nHETATM   22  O4  UNL     1      -0.965  -0.865  -3.186  1.00  0.00           O  \\nHETATM   23  C18 UNL     1       0.389  -0.648  -3.575  1.00  0.00           C  \\nHETATM   24  C19 UNL     1       1.294  -0.872  -2.368  1.00  0.00           C  \\nHETATM   25  O5  UNL     1       2.638  -0.532  -2.712  1.00  0.00           O  \\nHETATM   26  C20 UNL     1       3.491  -0.468  -1.564  1.00  0.00           C  \\nHETATM   27  C21 UNL     1       3.460   0.925  -0.924  1.00  0.00           C  \\nHETATM   28  O6  UNL     1       4.157   0.976   0.320  1.00  0.00           O  \\nHETATM   29  C22 UNL     1       5.577   0.970   0.176  1.00  0.00           C  \\nHETATM   30  C23 UNL     1       6.212   1.293   1.528  1.00  0.00           C  \\nHETATM   31  O7  UNL     1       7.636   1.345   1.438  1.00  0.00           O  \\nHETATM   32  C24 UNL     1       8.248   0.068   1.663  1.00  0.00           C  \\nHETATM   33  C25 UNL     1       9.732   0.146   1.306  1.00  0.00           C  \\nHETATM   34  O8  UNL     1       9.863   0.178  -0.121  1.00  0.00           O  \\nHETATM   35  C26 UNL     1      11.209   0.017  -0.579  1.00  0.00           C  \\nHETATM   36  C27 UNL     1      12.121   1.193  -0.221  1.00  0.00           C  \\nHETATM   37  O9  UNL     1      12.677   0.990   1.086  1.00  0.00           O  \\nHETATM   38  C28 UNL     1      13.615   2.004   1.451  1.00  0.00           C  \\nHETATM   39  C29 UNL     1      15.020   1.686   0.931  1.00  0.00           C  \\nHETATM   40  O10 UNL     1      15.957   2.706   1.268  1.00  0.00           O  \\nHETATM   41  C30 UNL     1      16.493   2.558   2.575  1.00  0.00           C  \\nHETATM   42  O11 UNL     1      -6.696  -1.461   1.690  1.00  0.00           O  \\nHETATM   43  H1  UNL     1     -14.909   2.640   2.519  1.00  0.00           H  \\nHETATM   44  H2  UNL     1     -14.849   1.621   3.948  1.00  0.00           H  \\nHETATM   45  H3  UNL     1     -15.510   0.269   2.048  1.00  0.00           H  \\nHETATM   46  H4  UNL     1     -13.919  -0.266   2.607  1.00  0.00           H  \\nHETATM   47  H5  UNL     1     -14.077   0.715   1.137  1.00  0.00           H  \\nHETATM   48  H6  UNL     1     -12.303   1.384   3.546  1.00  0.00           H  \\nHETATM   49  H7  UNL     1     -12.947   2.885   4.189  1.00  0.00           H  \\nHETATM   50  H8  UNL     1     -12.937   3.893   1.876  1.00  0.00           H  \\nHETATM   51  H9  UNL     1     -11.378   3.624   2.604  1.00  0.00           H  \\nHETATM   52  H10 UNL     1     -12.649   2.065   0.429  1.00  0.00           H  \\nHETATM   53  H11 UNL     1      -9.794   2.112   2.796  1.00  0.00           H  \\nHETATM   54  H12 UNL     1      -7.944   0.533   2.642  1.00  0.00           H  \\nHETATM   55  H13 UNL     1      -9.618  -1.069  -0.997  1.00  0.00           H  \\nHETATM   56  H14 UNL     1     -11.464   0.522  -0.841  1.00  0.00           H  \\nHETATM   57  H15 UNL     1      -6.635  -3.594  -1.351  1.00  0.00           H  \\nHETATM   58  H16 UNL     1      -6.162  -3.461   0.326  1.00  0.00           H  \\nHETATM   59  H17 UNL     1      -5.240  -1.565  -1.938  1.00  0.00           H  \\nHETATM   60  H18 UNL     1      -4.784  -1.411  -0.256  1.00  0.00           H  \\nHETATM   61  H19 UNL     1      -4.794  -4.505  -2.340  1.00  0.00           H  \\nHETATM   62  H20 UNL     1      -4.161  -3.110  -3.246  1.00  0.00           H  \\nHETATM   63  H21 UNL     1      -2.713  -5.249  -3.376  1.00  0.00           H  \\nHETATM   64  H22 UNL     1      -2.439  -5.069  -1.641  1.00  0.00           H  \\nHETATM   65  H23 UNL     1      -0.389  -3.277  -4.403  1.00  0.00           H  \\nHETATM   66  H24 UNL     1      -2.068  -3.650  -4.802  1.00  0.00           H  \\nHETATM   67  H25 UNL     1      -1.603  -1.202  -5.132  1.00  0.00           H  \\nHETATM   68  H26 UNL     1      -2.785  -1.448  -3.847  1.00  0.00           H  \\nHETATM   69  H27 UNL     1       0.705  -1.285  -4.411  1.00  0.00           H  \\nHETATM   70  H28 UNL     1       0.488   0.391  -3.918  1.00  0.00           H  \\nHETATM   71  H29 UNL     1       1.251  -1.927  -2.065  1.00  0.00           H  \\nHETATM   72  H30 UNL     1       0.937  -0.273  -1.522  1.00  0.00           H  \\nHETATM   73  H31 UNL     1       3.240  -1.254  -0.839  1.00  0.00           H  \\nHETATM   74  H32 UNL     1       4.505  -0.683  -1.912  1.00  0.00           H  \\nHETATM   75  H33 UNL     1       3.853   1.679  -1.617  1.00  0.00           H  \\nHETATM   76  H34 UNL     1       2.424   1.217  -0.721  1.00  0.00           H  \\nHETATM   77  H35 UNL     1       5.893   1.717  -0.561  1.00  0.00           H  \\nHETATM   78  H36 UNL     1       5.911  -0.010  -0.179  1.00  0.00           H  \\nHETATM   79  H37 UNL     1       5.867   2.282   1.852  1.00  0.00           H  \\nHETATM   80  H38 UNL     1       5.885   0.585   2.301  1.00  0.00           H  \\nHETATM   81  H39 UNL     1       7.755  -0.695   1.052  1.00  0.00           H  \\nHETATM   82  H40 UNL     1       8.135  -0.183   2.724  1.00  0.00           H  \\nHETATM   83  H41 UNL     1      10.166   1.055   1.734  1.00  0.00           H  \\nHETATM   84  H42 UNL     1      10.246  -0.738   1.697  1.00  0.00           H  \\nHETATM   85  H43 UNL     1      11.611  -0.931  -0.205  1.00  0.00           H  \\nHETATM   86  H44 UNL     1      11.141  -0.048  -1.669  1.00  0.00           H  \\nHETATM   87  H45 UNL     1      12.935   1.240  -0.948  1.00  0.00           H  \\nHETATM   88  H46 UNL     1      11.560   2.134  -0.236  1.00  0.00           H  \\nHETATM   89  H47 UNL     1      13.628   2.041   2.544  1.00  0.00           H  \\nHETATM   90  H48 UNL     1      13.279   2.995   1.117  1.00  0.00           H  \\nHETATM   91  H49 UNL     1      15.360   0.704   1.284  1.00  0.00           H  \\nHETATM   92  H50 UNL     1      15.001   1.621  -0.160  1.00  0.00           H  \\nHETATM   93  H51 UNL     1      15.706   2.644   3.334  1.00  0.00           H  \\nHETATM   94  H52 UNL     1      17.010   1.597   2.671  1.00  0.00           H  \\nHETATM   95  H53 UNL     1      17.220   3.361   2.739  1.00  0.00           H  \\nCONECT    1    2    3   43   44\\nCONECT    2   45   46   47\\nCONECT    3    4   48   49\\nCONECT    4    5   50   51\\nCONECT    5    6   52\\nCONECT    6    7    7   11\\nCONECT    7    8   53\\nCONECT    8    9    9   54\\nCONECT    9   10   12\\nCONECT   10   11   11   55\\nCONECT   11   56\\nCONECT   12   13   42   42\\nCONECT   13   14\\nCONECT   14   15   57   58\\nCONECT   15   16   59   60\\nCONECT   16   17\\nCONECT   17   18   61   62\\nCONECT   18   19   63   64\\nCONECT   19   20\\nCONECT   20   21   65   66\\nCONECT   21   22   67   68\\nCONECT   22   23\\nCONECT   23   24   69   70\\nCONECT   24   25   71   72\\nCONECT   25   26\\nCONECT   26   27   73   74\\nCONECT   27   28   75   76\\nCONECT   28   29\\nCONECT   29   30   77   78\\nCONECT   30   31   79   80\\nCONECT   31   32\\nCONECT   32   33   81   82\\nCONECT   33   34   83   84\\nCONECT   34   35\\nCONECT   35   36   85   86\\nCONECT   36   37   87   88\\nCONECT   37   38\\nCONECT   38   39   89   90\\nCONECT   39   40   91   92\\nCONECT   40   41\\nCONECT   41   93   94   95\\nEND\\n\",\"pdb\");\n",
              "\tviewer_17452296855634775.setStyle({\"stick\": {}});\n",
              "\tviewer_17452296855634775.zoomTo();\n",
              "viewer_17452296855634775.render();\n",
              "});\n",
              "</script>"
            ]
          },
          "metadata": {}
        },
        {
          "output_type": "display_data",
          "data": {
            "application/3dmoljs_load.v0": "<div id=\"3dmolviewer_1745229685579987\"  style=\"position: relative; width: 400px; height: 600px;\">\n        <p id=\"3dmolwarning_1745229685579987\" style=\"background-color:#ffcccc;color:black\">3Dmol.js failed to load for some reason.  Please check your browser console for error messages.<br></p>\n        </div>\n<script>\n\nvar loadScriptAsync = function(uri){\n  return new Promise((resolve, reject) => {\n    //this is to ignore the existence of requirejs amd\n    var savedexports, savedmodule;\n    if (typeof exports !== 'undefined') savedexports = exports;\n    else exports = {}\n    if (typeof module !== 'undefined') savedmodule = module;\n    else module = {}\n\n    var tag = document.createElement('script');\n    tag.src = uri;\n    tag.async = true;\n    tag.onload = () => {\n        exports = savedexports;\n        module = savedmodule;\n        resolve();\n    };\n  var firstScriptTag = document.getElementsByTagName('script')[0];\n  firstScriptTag.parentNode.insertBefore(tag, firstScriptTag);\n});\n};\n\nif(typeof $3Dmolpromise === 'undefined') {\n$3Dmolpromise = null;\n  $3Dmolpromise = loadScriptAsync('https://cdnjs.cloudflare.com/ajax/libs/3Dmol/2.4.2/3Dmol-min.js');\n}\n\nvar viewer_1745229685579987 = null;\nvar warn = document.getElementById(\"3dmolwarning_1745229685579987\");\nif(warn) {\n    warn.parentNode.removeChild(warn);\n}\n$3Dmolpromise.then(function() {\nviewer_1745229685579987 = $3Dmol.createViewer(document.getElementById(\"3dmolviewer_1745229685579987\"),{backgroundColor:\"white\"});\nviewer_1745229685579987.zoomTo();\n\tviewer_1745229685579987.addModel(\"HETATM    1  C1  UNL     1       0.035   2.240  -0.581  1.00  0.00           C  \\nHETATM    2  N1  UNL     1       0.897   1.239  -0.210  1.00  0.00           N  \\nHETATM    3  C2  UNL     1       0.542  -0.054   0.083  1.00  0.00           C  \\nHETATM    4  N2  UNL     1       1.244  -1.067   0.437  1.00  0.00           N  \\nHETATM    5  C3  UNL     1       2.679  -0.876   0.570  1.00  0.00           C  \\nHETATM    6  C4  UNL     1      -0.901  -0.227  -0.055  1.00  0.00           C  \\nHETATM    7  C5  UNL     1      -1.687  -1.403   0.152  1.00  0.00           C  \\nHETATM    8  C6  UNL     1      -3.025  -1.175  -0.077  1.00  0.00           C  \\nHETATM    9  S1  UNL     1      -3.334   0.443  -0.540  1.00  0.00           S  \\nHETATM   10  C7  UNL     1      -1.679   0.859  -0.438  1.00  0.00           C  \\nHETATM   11  N3  UNL     1      -1.250   2.128  -0.715  1.00  0.00           N  \\nHETATM   12  H1  UNL     1       0.537   3.203  -0.769  1.00  0.00           H  \\nHETATM   13  H2  UNL     1       1.876   1.468  -0.145  1.00  0.00           H  \\nHETATM   14  H3  UNL     1       3.140  -1.821   0.875  1.00  0.00           H  \\nHETATM   15  H4  UNL     1       2.915  -0.132   1.337  1.00  0.00           H  \\nHETATM   16  H5  UNL     1       3.134  -0.581  -0.382  1.00  0.00           H  \\nHETATM   17  H6  UNL     1      -1.282  -2.361   0.454  1.00  0.00           H  \\nHETATM   18  H7  UNL     1      -3.841  -1.881   0.003  1.00  0.00           H  \\nCONECT    1    2   11   11   12\\nCONECT    2    3   13\\nCONECT    3    4    4    6\\nCONECT    4    5\\nCONECT    5   14   15   16\\nCONECT    6    7   10   10\\nCONECT    7    8    8   17\\nCONECT    8    9   18\\nCONECT    9   10\\nCONECT   10   11\\nEND\\n\",\"pdb\");\n\tviewer_1745229685579987.setStyle({\"stick\": {}});\n\tviewer_1745229685579987.zoomTo();\nviewer_1745229685579987.render();\n});\n</script>",
            "text/html": [
              "<div id=\"3dmolviewer_1745229685579987\"  style=\"position: relative; width: 400px; height: 600px;\">\n",
              "        <p id=\"3dmolwarning_1745229685579987\" style=\"background-color:#ffcccc;color:black\">3Dmol.js failed to load for some reason.  Please check your browser console for error messages.<br></p>\n",
              "        </div>\n",
              "<script>\n",
              "\n",
              "var loadScriptAsync = function(uri){\n",
              "  return new Promise((resolve, reject) => {\n",
              "    //this is to ignore the existence of requirejs amd\n",
              "    var savedexports, savedmodule;\n",
              "    if (typeof exports !== 'undefined') savedexports = exports;\n",
              "    else exports = {}\n",
              "    if (typeof module !== 'undefined') savedmodule = module;\n",
              "    else module = {}\n",
              "\n",
              "    var tag = document.createElement('script');\n",
              "    tag.src = uri;\n",
              "    tag.async = true;\n",
              "    tag.onload = () => {\n",
              "        exports = savedexports;\n",
              "        module = savedmodule;\n",
              "        resolve();\n",
              "    };\n",
              "  var firstScriptTag = document.getElementsByTagName('script')[0];\n",
              "  firstScriptTag.parentNode.insertBefore(tag, firstScriptTag);\n",
              "});\n",
              "};\n",
              "\n",
              "if(typeof $3Dmolpromise === 'undefined') {\n",
              "$3Dmolpromise = null;\n",
              "  $3Dmolpromise = loadScriptAsync('https://cdnjs.cloudflare.com/ajax/libs/3Dmol/2.4.2/3Dmol-min.js');\n",
              "}\n",
              "\n",
              "var viewer_1745229685579987 = null;\n",
              "var warn = document.getElementById(\"3dmolwarning_1745229685579987\");\n",
              "if(warn) {\n",
              "    warn.parentNode.removeChild(warn);\n",
              "}\n",
              "$3Dmolpromise.then(function() {\n",
              "viewer_1745229685579987 = $3Dmol.createViewer(document.getElementById(\"3dmolviewer_1745229685579987\"),{backgroundColor:\"white\"});\n",
              "viewer_1745229685579987.zoomTo();\n",
              "\tviewer_1745229685579987.addModel(\"HETATM    1  C1  UNL     1       0.035   2.240  -0.581  1.00  0.00           C  \\nHETATM    2  N1  UNL     1       0.897   1.239  -0.210  1.00  0.00           N  \\nHETATM    3  C2  UNL     1       0.542  -0.054   0.083  1.00  0.00           C  \\nHETATM    4  N2  UNL     1       1.244  -1.067   0.437  1.00  0.00           N  \\nHETATM    5  C3  UNL     1       2.679  -0.876   0.570  1.00  0.00           C  \\nHETATM    6  C4  UNL     1      -0.901  -0.227  -0.055  1.00  0.00           C  \\nHETATM    7  C5  UNL     1      -1.687  -1.403   0.152  1.00  0.00           C  \\nHETATM    8  C6  UNL     1      -3.025  -1.175  -0.077  1.00  0.00           C  \\nHETATM    9  S1  UNL     1      -3.334   0.443  -0.540  1.00  0.00           S  \\nHETATM   10  C7  UNL     1      -1.679   0.859  -0.438  1.00  0.00           C  \\nHETATM   11  N3  UNL     1      -1.250   2.128  -0.715  1.00  0.00           N  \\nHETATM   12  H1  UNL     1       0.537   3.203  -0.769  1.00  0.00           H  \\nHETATM   13  H2  UNL     1       1.876   1.468  -0.145  1.00  0.00           H  \\nHETATM   14  H3  UNL     1       3.140  -1.821   0.875  1.00  0.00           H  \\nHETATM   15  H4  UNL     1       2.915  -0.132   1.337  1.00  0.00           H  \\nHETATM   16  H5  UNL     1       3.134  -0.581  -0.382  1.00  0.00           H  \\nHETATM   17  H6  UNL     1      -1.282  -2.361   0.454  1.00  0.00           H  \\nHETATM   18  H7  UNL     1      -3.841  -1.881   0.003  1.00  0.00           H  \\nCONECT    1    2   11   11   12\\nCONECT    2    3   13\\nCONECT    3    4    4    6\\nCONECT    4    5\\nCONECT    5   14   15   16\\nCONECT    6    7   10   10\\nCONECT    7    8    8   17\\nCONECT    8    9   18\\nCONECT    9   10\\nCONECT   10   11\\nEND\\n\",\"pdb\");\n",
              "\tviewer_1745229685579987.setStyle({\"stick\": {}});\n",
              "\tviewer_1745229685579987.zoomTo();\n",
              "viewer_1745229685579987.render();\n",
              "});\n",
              "</script>"
            ]
          },
          "metadata": {}
        },
        {
          "output_type": "display_data",
          "data": {
            "application/3dmoljs_load.v0": "<div id=\"3dmolviewer_17452296856237173\"  style=\"position: relative; width: 400px; height: 600px;\">\n        <p id=\"3dmolwarning_17452296856237173\" style=\"background-color:#ffcccc;color:black\">3Dmol.js failed to load for some reason.  Please check your browser console for error messages.<br></p>\n        </div>\n<script>\n\nvar loadScriptAsync = function(uri){\n  return new Promise((resolve, reject) => {\n    //this is to ignore the existence of requirejs amd\n    var savedexports, savedmodule;\n    if (typeof exports !== 'undefined') savedexports = exports;\n    else exports = {}\n    if (typeof module !== 'undefined') savedmodule = module;\n    else module = {}\n\n    var tag = document.createElement('script');\n    tag.src = uri;\n    tag.async = true;\n    tag.onload = () => {\n        exports = savedexports;\n        module = savedmodule;\n        resolve();\n    };\n  var firstScriptTag = document.getElementsByTagName('script')[0];\n  firstScriptTag.parentNode.insertBefore(tag, firstScriptTag);\n});\n};\n\nif(typeof $3Dmolpromise === 'undefined') {\n$3Dmolpromise = null;\n  $3Dmolpromise = loadScriptAsync('https://cdnjs.cloudflare.com/ajax/libs/3Dmol/2.4.2/3Dmol-min.js');\n}\n\nvar viewer_17452296856237173 = null;\nvar warn = document.getElementById(\"3dmolwarning_17452296856237173\");\nif(warn) {\n    warn.parentNode.removeChild(warn);\n}\n$3Dmolpromise.then(function() {\nviewer_17452296856237173 = $3Dmol.createViewer(document.getElementById(\"3dmolviewer_17452296856237173\"),{backgroundColor:\"white\"});\nviewer_17452296856237173.zoomTo();\n\tviewer_17452296856237173.addModel(\"HETATM    1  N1  UNL     1      -5.576   0.331  -0.566  1.00  0.00           N1+\\nHETATM    2  O1  UNL     1      -6.178   1.163   0.129  1.00  0.00           O1-\\nHETATM    3  C1  UNL     1      -4.119   0.243  -0.414  1.00  0.00           C  \\nHETATM    4  C2  UNL     1      -3.461   1.075   0.499  1.00  0.00           C  \\nHETATM    5  C3  UNL     1      -2.063   0.999   0.655  1.00  0.00           C  \\nHETATM    6  C4  UNL     1      -1.410   1.920   1.652  1.00  0.00           C  \\nHETATM    7  C5  UNL     1      -1.324   0.076  -0.122  1.00  0.00           C  \\nHETATM    8  N2  UNL     1       0.081   0.008   0.053  1.00  0.00           N  \\nHETATM    9  C6  UNL     1       0.987  -0.731  -0.685  1.00  0.00           C  \\nHETATM   10  C7  UNL     1       2.406  -0.667  -0.233  1.00  0.00           C  \\nHETATM   11  C8  UNL     1       2.722  -0.506   1.124  1.00  0.00           C  \\nHETATM   12  C9  UNL     1       4.057  -0.433   1.521  1.00  0.00           C  \\nHETATM   13 CL1  UNL     1       4.432  -0.224   3.187  1.00  0.00          CL  \\nHETATM   14  C10 UNL     1       5.086  -0.529   0.589  1.00  0.00           C  \\nHETATM   15  C11 UNL     1       4.778  -0.717  -0.758  1.00  0.00           C  \\nHETATM   16 CL2  UNL     1       6.083  -0.851  -1.881  1.00  0.00          CL  \\nHETATM   17  C12 UNL     1       3.443  -0.799  -1.175  1.00  0.00           C  \\nHETATM   18  O2  UNL     1       3.185  -1.006  -2.507  1.00  0.00           O  \\nHETATM   19  O3  UNL     1       0.754  -1.386  -1.697  1.00  0.00           O  \\nHETATM   20  C13 UNL     1      -2.006  -0.753  -1.025  1.00  0.00           C  \\nHETATM   21  C14 UNL     1      -3.395  -0.673  -1.176  1.00  0.00           C  \\nHETATM   22  O4  UNL     1      -6.120  -0.430  -1.378  1.00  0.00           O  \\nHETATM   23  H1  UNL     1      -4.029   1.789   1.095  1.00  0.00           H  \\nHETATM   24  H2  UNL     1      -0.691   2.575   1.150  1.00  0.00           H  \\nHETATM   25  H3  UNL     1      -2.143   2.562   2.152  1.00  0.00           H  \\nHETATM   26  H4  UNL     1      -0.901   1.340   2.429  1.00  0.00           H  \\nHETATM   27  H5  UNL     1       0.465   0.640   0.741  1.00  0.00           H  \\nHETATM   28  H6  UNL     1       1.944  -0.465   1.882  1.00  0.00           H  \\nHETATM   29  H7  UNL     1       6.123  -0.470   0.910  1.00  0.00           H  \\nHETATM   30  H8  UNL     1       2.241  -1.260  -2.612  1.00  0.00           H  \\nHETATM   31  H9  UNL     1      -1.485  -1.489  -1.630  1.00  0.00           H  \\nHETATM   32  H10 UNL     1      -3.885  -1.334  -1.889  1.00  0.00           H  \\nCONECT    1    2    3   22   22\\nCONECT    3    4    4   21\\nCONECT    4    5   23\\nCONECT    5    6    7    7\\nCONECT    6   24   25   26\\nCONECT    7    8   20\\nCONECT    8    9   27\\nCONECT    9   10   19   19\\nCONECT   10   11   11   17\\nCONECT   11   12   28\\nCONECT   12   13   14   14\\nCONECT   14   15   29\\nCONECT   15   16   17   17\\nCONECT   17   18\\nCONECT   18   30\\nCONECT   20   21   21   31\\nCONECT   21   32\\nEND\\n\",\"pdb\");\n\tviewer_17452296856237173.setStyle({\"stick\": {}});\n\tviewer_17452296856237173.zoomTo();\nviewer_17452296856237173.render();\n});\n</script>",
            "text/html": [
              "<div id=\"3dmolviewer_17452296856237173\"  style=\"position: relative; width: 400px; height: 600px;\">\n",
              "        <p id=\"3dmolwarning_17452296856237173\" style=\"background-color:#ffcccc;color:black\">3Dmol.js failed to load for some reason.  Please check your browser console for error messages.<br></p>\n",
              "        </div>\n",
              "<script>\n",
              "\n",
              "var loadScriptAsync = function(uri){\n",
              "  return new Promise((resolve, reject) => {\n",
              "    //this is to ignore the existence of requirejs amd\n",
              "    var savedexports, savedmodule;\n",
              "    if (typeof exports !== 'undefined') savedexports = exports;\n",
              "    else exports = {}\n",
              "    if (typeof module !== 'undefined') savedmodule = module;\n",
              "    else module = {}\n",
              "\n",
              "    var tag = document.createElement('script');\n",
              "    tag.src = uri;\n",
              "    tag.async = true;\n",
              "    tag.onload = () => {\n",
              "        exports = savedexports;\n",
              "        module = savedmodule;\n",
              "        resolve();\n",
              "    };\n",
              "  var firstScriptTag = document.getElementsByTagName('script')[0];\n",
              "  firstScriptTag.parentNode.insertBefore(tag, firstScriptTag);\n",
              "});\n",
              "};\n",
              "\n",
              "if(typeof $3Dmolpromise === 'undefined') {\n",
              "$3Dmolpromise = null;\n",
              "  $3Dmolpromise = loadScriptAsync('https://cdnjs.cloudflare.com/ajax/libs/3Dmol/2.4.2/3Dmol-min.js');\n",
              "}\n",
              "\n",
              "var viewer_17452296856237173 = null;\n",
              "var warn = document.getElementById(\"3dmolwarning_17452296856237173\");\n",
              "if(warn) {\n",
              "    warn.parentNode.removeChild(warn);\n",
              "}\n",
              "$3Dmolpromise.then(function() {\n",
              "viewer_17452296856237173 = $3Dmol.createViewer(document.getElementById(\"3dmolviewer_17452296856237173\"),{backgroundColor:\"white\"});\n",
              "viewer_17452296856237173.zoomTo();\n",
              "\tviewer_17452296856237173.addModel(\"HETATM    1  N1  UNL     1      -5.576   0.331  -0.566  1.00  0.00           N1+\\nHETATM    2  O1  UNL     1      -6.178   1.163   0.129  1.00  0.00           O1-\\nHETATM    3  C1  UNL     1      -4.119   0.243  -0.414  1.00  0.00           C  \\nHETATM    4  C2  UNL     1      -3.461   1.075   0.499  1.00  0.00           C  \\nHETATM    5  C3  UNL     1      -2.063   0.999   0.655  1.00  0.00           C  \\nHETATM    6  C4  UNL     1      -1.410   1.920   1.652  1.00  0.00           C  \\nHETATM    7  C5  UNL     1      -1.324   0.076  -0.122  1.00  0.00           C  \\nHETATM    8  N2  UNL     1       0.081   0.008   0.053  1.00  0.00           N  \\nHETATM    9  C6  UNL     1       0.987  -0.731  -0.685  1.00  0.00           C  \\nHETATM   10  C7  UNL     1       2.406  -0.667  -0.233  1.00  0.00           C  \\nHETATM   11  C8  UNL     1       2.722  -0.506   1.124  1.00  0.00           C  \\nHETATM   12  C9  UNL     1       4.057  -0.433   1.521  1.00  0.00           C  \\nHETATM   13 CL1  UNL     1       4.432  -0.224   3.187  1.00  0.00          CL  \\nHETATM   14  C10 UNL     1       5.086  -0.529   0.589  1.00  0.00           C  \\nHETATM   15  C11 UNL     1       4.778  -0.717  -0.758  1.00  0.00           C  \\nHETATM   16 CL2  UNL     1       6.083  -0.851  -1.881  1.00  0.00          CL  \\nHETATM   17  C12 UNL     1       3.443  -0.799  -1.175  1.00  0.00           C  \\nHETATM   18  O2  UNL     1       3.185  -1.006  -2.507  1.00  0.00           O  \\nHETATM   19  O3  UNL     1       0.754  -1.386  -1.697  1.00  0.00           O  \\nHETATM   20  C13 UNL     1      -2.006  -0.753  -1.025  1.00  0.00           C  \\nHETATM   21  C14 UNL     1      -3.395  -0.673  -1.176  1.00  0.00           C  \\nHETATM   22  O4  UNL     1      -6.120  -0.430  -1.378  1.00  0.00           O  \\nHETATM   23  H1  UNL     1      -4.029   1.789   1.095  1.00  0.00           H  \\nHETATM   24  H2  UNL     1      -0.691   2.575   1.150  1.00  0.00           H  \\nHETATM   25  H3  UNL     1      -2.143   2.562   2.152  1.00  0.00           H  \\nHETATM   26  H4  UNL     1      -0.901   1.340   2.429  1.00  0.00           H  \\nHETATM   27  H5  UNL     1       0.465   0.640   0.741  1.00  0.00           H  \\nHETATM   28  H6  UNL     1       1.944  -0.465   1.882  1.00  0.00           H  \\nHETATM   29  H7  UNL     1       6.123  -0.470   0.910  1.00  0.00           H  \\nHETATM   30  H8  UNL     1       2.241  -1.260  -2.612  1.00  0.00           H  \\nHETATM   31  H9  UNL     1      -1.485  -1.489  -1.630  1.00  0.00           H  \\nHETATM   32  H10 UNL     1      -3.885  -1.334  -1.889  1.00  0.00           H  \\nCONECT    1    2    3   22   22\\nCONECT    3    4    4   21\\nCONECT    4    5   23\\nCONECT    5    6    7    7\\nCONECT    6   24   25   26\\nCONECT    7    8   20\\nCONECT    8    9   27\\nCONECT    9   10   19   19\\nCONECT   10   11   11   17\\nCONECT   11   12   28\\nCONECT   12   13   14   14\\nCONECT   14   15   29\\nCONECT   15   16   17   17\\nCONECT   17   18\\nCONECT   18   30\\nCONECT   20   21   21   31\\nCONECT   21   32\\nEND\\n\",\"pdb\");\n",
              "\tviewer_17452296856237173.setStyle({\"stick\": {}});\n",
              "\tviewer_17452296856237173.zoomTo();\n",
              "viewer_17452296856237173.render();\n",
              "});\n",
              "</script>"
            ]
          },
          "metadata": {}
        },
        {
          "output_type": "display_data",
          "data": {
            "application/3dmoljs_load.v0": "<div id=\"3dmolviewer_17452296856434186\"  style=\"position: relative; width: 400px; height: 600px;\">\n        <p id=\"3dmolwarning_17452296856434186\" style=\"background-color:#ffcccc;color:black\">3Dmol.js failed to load for some reason.  Please check your browser console for error messages.<br></p>\n        </div>\n<script>\n\nvar loadScriptAsync = function(uri){\n  return new Promise((resolve, reject) => {\n    //this is to ignore the existence of requirejs amd\n    var savedexports, savedmodule;\n    if (typeof exports !== 'undefined') savedexports = exports;\n    else exports = {}\n    if (typeof module !== 'undefined') savedmodule = module;\n    else module = {}\n\n    var tag = document.createElement('script');\n    tag.src = uri;\n    tag.async = true;\n    tag.onload = () => {\n        exports = savedexports;\n        module = savedmodule;\n        resolve();\n    };\n  var firstScriptTag = document.getElementsByTagName('script')[0];\n  firstScriptTag.parentNode.insertBefore(tag, firstScriptTag);\n});\n};\n\nif(typeof $3Dmolpromise === 'undefined') {\n$3Dmolpromise = null;\n  $3Dmolpromise = loadScriptAsync('https://cdnjs.cloudflare.com/ajax/libs/3Dmol/2.4.2/3Dmol-min.js');\n}\n\nvar viewer_17452296856434186 = null;\nvar warn = document.getElementById(\"3dmolwarning_17452296856434186\");\nif(warn) {\n    warn.parentNode.removeChild(warn);\n}\n$3Dmolpromise.then(function() {\nviewer_17452296856434186 = $3Dmol.createViewer(document.getElementById(\"3dmolviewer_17452296856434186\"),{backgroundColor:\"white\"});\nviewer_17452296856434186.zoomTo();\n\tviewer_17452296856434186.addModel(\"HETATM    1  O1  UNL     1       3.765  -0.741  -1.630  1.00  0.00           O  \\nHETATM    2  S1  UNL     1       3.465  -0.546  -0.233  1.00  0.00           S  \\nHETATM    3  O2  UNL     1       3.819  -1.495   0.796  1.00  0.00           O  \\nHETATM    4  C1  UNL     1       1.695  -0.435  -0.148  1.00  0.00           C  \\nHETATM    5  C2  UNL     1       0.735  -1.314   0.319  1.00  0.00           C  \\nHETATM    6  C3  UNL     1      -0.573  -0.791   0.164  1.00  0.00           C  \\nHETATM    7  C4  UNL     1      -0.587   0.468  -0.389  1.00  0.00           C  \\nHETATM    8  C5  UNL     1      -1.745   1.300  -0.658  1.00  0.00           C  \\nHETATM    9  C6  UNL     1      -3.084   0.772  -0.166  1.00  0.00           C  \\nHETATM   10  C7  UNL     1      -3.234  -0.729  -0.360  1.00  0.00           C  \\nHETATM   11  S2  UNL     1      -2.022  -1.659   0.634  1.00  0.00           S  \\nHETATM   12  O3  UNL     1      -1.688   2.407  -1.194  1.00  0.00           O  \\nHETATM   13  S3  UNL     1       0.993   1.003  -0.756  1.00  0.00           S  \\nHETATM   14  N1  UNL     1       4.097   0.937   0.228  1.00  0.00           N  \\nHETATM   15  H1  UNL     1       0.983  -2.284   0.737  1.00  0.00           H  \\nHETATM   16  H2  UNL     1      -3.872   1.279  -0.736  1.00  0.00           H  \\nHETATM   17  H3  UNL     1      -3.204   1.055   0.886  1.00  0.00           H  \\nHETATM   18  H4  UNL     1      -4.236  -1.048  -0.059  1.00  0.00           H  \\nHETATM   19  H5  UNL     1      -3.101  -1.000  -1.414  1.00  0.00           H  \\nHETATM   20  H6  UNL     1       3.846   1.685  -0.416  1.00  0.00           H  \\nHETATM   21  H7  UNL     1       3.949   1.137   1.215  1.00  0.00           H  \\nCONECT    1    2    2\\nCONECT    2    3    3    4   14\\nCONECT    4    5    5   13\\nCONECT    5    6   15\\nCONECT    6    7    7   11\\nCONECT    7    8   13\\nCONECT    8    9   12   12\\nCONECT    9   10   16   17\\nCONECT   10   11   18   19\\nCONECT   14   20   21\\nEND\\n\",\"pdb\");\n\tviewer_17452296856434186.setStyle({\"stick\": {}});\n\tviewer_17452296856434186.zoomTo();\nviewer_17452296856434186.render();\n});\n</script>",
            "text/html": [
              "<div id=\"3dmolviewer_17452296856434186\"  style=\"position: relative; width: 400px; height: 600px;\">\n",
              "        <p id=\"3dmolwarning_17452296856434186\" style=\"background-color:#ffcccc;color:black\">3Dmol.js failed to load for some reason.  Please check your browser console for error messages.<br></p>\n",
              "        </div>\n",
              "<script>\n",
              "\n",
              "var loadScriptAsync = function(uri){\n",
              "  return new Promise((resolve, reject) => {\n",
              "    //this is to ignore the existence of requirejs amd\n",
              "    var savedexports, savedmodule;\n",
              "    if (typeof exports !== 'undefined') savedexports = exports;\n",
              "    else exports = {}\n",
              "    if (typeof module !== 'undefined') savedmodule = module;\n",
              "    else module = {}\n",
              "\n",
              "    var tag = document.createElement('script');\n",
              "    tag.src = uri;\n",
              "    tag.async = true;\n",
              "    tag.onload = () => {\n",
              "        exports = savedexports;\n",
              "        module = savedmodule;\n",
              "        resolve();\n",
              "    };\n",
              "  var firstScriptTag = document.getElementsByTagName('script')[0];\n",
              "  firstScriptTag.parentNode.insertBefore(tag, firstScriptTag);\n",
              "});\n",
              "};\n",
              "\n",
              "if(typeof $3Dmolpromise === 'undefined') {\n",
              "$3Dmolpromise = null;\n",
              "  $3Dmolpromise = loadScriptAsync('https://cdnjs.cloudflare.com/ajax/libs/3Dmol/2.4.2/3Dmol-min.js');\n",
              "}\n",
              "\n",
              "var viewer_17452296856434186 = null;\n",
              "var warn = document.getElementById(\"3dmolwarning_17452296856434186\");\n",
              "if(warn) {\n",
              "    warn.parentNode.removeChild(warn);\n",
              "}\n",
              "$3Dmolpromise.then(function() {\n",
              "viewer_17452296856434186 = $3Dmol.createViewer(document.getElementById(\"3dmolviewer_17452296856434186\"),{backgroundColor:\"white\"});\n",
              "viewer_17452296856434186.zoomTo();\n",
              "\tviewer_17452296856434186.addModel(\"HETATM    1  O1  UNL     1       3.765  -0.741  -1.630  1.00  0.00           O  \\nHETATM    2  S1  UNL     1       3.465  -0.546  -0.233  1.00  0.00           S  \\nHETATM    3  O2  UNL     1       3.819  -1.495   0.796  1.00  0.00           O  \\nHETATM    4  C1  UNL     1       1.695  -0.435  -0.148  1.00  0.00           C  \\nHETATM    5  C2  UNL     1       0.735  -1.314   0.319  1.00  0.00           C  \\nHETATM    6  C3  UNL     1      -0.573  -0.791   0.164  1.00  0.00           C  \\nHETATM    7  C4  UNL     1      -0.587   0.468  -0.389  1.00  0.00           C  \\nHETATM    8  C5  UNL     1      -1.745   1.300  -0.658  1.00  0.00           C  \\nHETATM    9  C6  UNL     1      -3.084   0.772  -0.166  1.00  0.00           C  \\nHETATM   10  C7  UNL     1      -3.234  -0.729  -0.360  1.00  0.00           C  \\nHETATM   11  S2  UNL     1      -2.022  -1.659   0.634  1.00  0.00           S  \\nHETATM   12  O3  UNL     1      -1.688   2.407  -1.194  1.00  0.00           O  \\nHETATM   13  S3  UNL     1       0.993   1.003  -0.756  1.00  0.00           S  \\nHETATM   14  N1  UNL     1       4.097   0.937   0.228  1.00  0.00           N  \\nHETATM   15  H1  UNL     1       0.983  -2.284   0.737  1.00  0.00           H  \\nHETATM   16  H2  UNL     1      -3.872   1.279  -0.736  1.00  0.00           H  \\nHETATM   17  H3  UNL     1      -3.204   1.055   0.886  1.00  0.00           H  \\nHETATM   18  H4  UNL     1      -4.236  -1.048  -0.059  1.00  0.00           H  \\nHETATM   19  H5  UNL     1      -3.101  -1.000  -1.414  1.00  0.00           H  \\nHETATM   20  H6  UNL     1       3.846   1.685  -0.416  1.00  0.00           H  \\nHETATM   21  H7  UNL     1       3.949   1.137   1.215  1.00  0.00           H  \\nCONECT    1    2    2\\nCONECT    2    3    3    4   14\\nCONECT    4    5    5   13\\nCONECT    5    6   15\\nCONECT    6    7    7   11\\nCONECT    7    8   13\\nCONECT    8    9   12   12\\nCONECT    9   10   16   17\\nCONECT   10   11   18   19\\nCONECT   14   20   21\\nEND\\n\",\"pdb\");\n",
              "\tviewer_17452296856434186.setStyle({\"stick\": {}});\n",
              "\tviewer_17452296856434186.zoomTo();\n",
              "viewer_17452296856434186.render();\n",
              "});\n",
              "</script>"
            ]
          },
          "metadata": {}
        }
      ]
    },
    {
      "cell_type": "code",
      "source": [
        "from rdkit import RDLogger\n",
        "\n",
        "# Отключаем все предупреждения RDKit\n",
        "RDLogger.DisableLog('rdApp.*')"
      ],
      "metadata": {
        "id": "yzUPAtAo52-7"
      },
      "execution_count": 12,
      "outputs": []
    },
    {
      "cell_type": "code",
      "source": [
        "# Фильтрация неправильных молекул\n",
        "train_clean = train[train['SMILES'].progress_apply(lambda smiles: Chem.MolFromSmiles(smiles) is not None)]\n",
        "\n",
        "print('Данные очищены')\n",
        "print(f'Количество первоначальных данных: {len(train)}')\n",
        "print(f'Осталось данных: {len(train_clean)}')\n",
        "print(f'Оставлено {len(train_clean) / len(train) * 100:.2f}% данных')"
      ],
      "metadata": {
        "colab": {
          "base_uri": "https://localhost:8080/",
          "height": 118,
          "referenced_widgets": [
            "300f512bc11c41379d47a55fdbd92d4d",
            "2bc243c7370448cba1f322ab87702fe6",
            "e61183feba694d08bb272600f63ebf68",
            "4b3b342ce33b4a59b4f2d91b15ade453",
            "d589716c0780433abb6f34c0b71faf9c",
            "45c348d1d0c844caa0f7457408804436",
            "c90ab2af0bab4070bbe072857e3358ac",
            "96314f06b916492cad0f4ffdca006b6a",
            "5117cdc3128b49a785c101b9fc5e53c5",
            "1c6fb07f58424611ad1a8447a9684488",
            "1e43bc3363c547a881087125f38545b1"
          ]
        },
        "id": "9xYLX_T24lHA",
        "outputId": "32d00d00-8f65-4dd0-ff00-a0043fcce9be"
      },
      "execution_count": 15,
      "outputs": [
        {
          "output_type": "display_data",
          "data": {
            "text/plain": [
              "  0%|          | 0/13403 [00:00<?, ?it/s]"
            ],
            "application/vnd.jupyter.widget-view+json": {
              "version_major": 2,
              "version_minor": 0,
              "model_id": "300f512bc11c41379d47a55fdbd92d4d"
            }
          },
          "metadata": {}
        },
        {
          "output_type": "stream",
          "name": "stdout",
          "text": [
            "Данные очищены\n",
            "Количество первоначальных данных: 13403\n",
            "Осталось данных: 12953\n",
            "Оставлено 96.64% данных\n"
          ]
        }
      ]
    },
    {
      "cell_type": "markdown",
      "source": [
        "# 📊 **Анализ данных**\n",
        "Построим распределение характеристики LogP"
      ],
      "metadata": {
        "id": "Crr6xkRe9Tv2"
      }
    },
    {
      "source": [
        "from matplotlib import pyplot as plt\n",
        "\n",
        "def plot_distribution(values) -> None:\n",
        "\n",
        "    '''\n",
        "    Строит гистограмму распределения значений LogP\n",
        "\n",
        "    Параметры:\n",
        "        values (pd.Series): серия числовых значений LogP\n",
        "\n",
        "    Функция визуализирует распределение значений LogP\n",
        "    '''\n",
        "\n",
        "    plt.figure(figsize=(10, 6))\n",
        "    ax = values.plot(kind='hist',\n",
        "                     bins=20,\n",
        "                     color='skyblue',\n",
        "                     edgecolor='white',\n",
        "                     alpha=0.8)\n",
        "\n",
        "    # Заголовок и подписи\n",
        "    plt.title('LogP Distribution', fontsize=16, pad=20)\n",
        "    plt.xlabel('LogP Values', fontsize=12)\n",
        "    plt.ylabel('Frequency', fontsize=12)\n",
        "\n",
        "    # Убираем верхнюю и правую границы\n",
        "    ax.spines[['top', 'right']].set_visible(False)\n",
        "\n",
        "    # Сетка\n",
        "    ax.grid(axis='y', linestyle='--', alpha=0.4)\n",
        "\n",
        "    # Цвет фона\n",
        "    ax.set_facecolor('#f5f5f5')\n",
        "\n",
        "    # Размер шкалы\n",
        "    plt.xticks(fontsize=10)\n",
        "    plt.yticks(fontsize=10)\n",
        "\n",
        "    # Добавляем линию среднего значения\n",
        "    mean_val = values.mean()\n",
        "    plt.axvline(mean_val, color='salmon', linestyle='--', linewidth=2)\n",
        "    plt.text(mean_val*1.05, ax.get_ylim()[1]*0.9, f'Mean: {mean_val:.2f}', color='salmon')\n",
        "\n",
        "    plt.tight_layout()\n",
        "    plt.show()"
      ],
      "cell_type": "code",
      "execution_count": 35,
      "outputs": [],
      "metadata": {
        "id": "malxSqaQSujr"
      }
    },
    {
      "cell_type": "code",
      "source": [
        "plot_distribution(train_clean['LogP'])"
      ],
      "metadata": {
        "colab": {
          "base_uri": "https://localhost:8080/",
          "height": 607
        },
        "id": "dELMFoOG0Reb",
        "outputId": "8bb2a304-c07d-4e00-c1c3-f1f2c75bf37e"
      },
      "execution_count": 36,
      "outputs": [
        {
          "output_type": "display_data",
          "data": {
            "text/plain": [
              "<Figure size 1000x600 with 1 Axes>"
            ],
            "image/png": "[encoded data removed]"
          },
          "metadata": {}
        }
      ]
    },
    {
      "cell_type": "markdown",
      "source": [
        "# **Анализ распределения целевой переменной (LogP)**\n",
        "\n",
        "На гистограмме видно, что большинство значений LogP сконцентрировано в диапазоне от **-2** до **9**, при этом среднее значение составляет около **3.56**.\n",
        "\n",
        "## **📌 Почему я выбрал диапазон [-2, 9]:**\n",
        "\n",
        "- Этот интервал охватывает основную массу данных, исключая редкие выбросы, которые могут негативно повлиять на обучение модели.\n",
        "\n",
        "- Значения вне этого диапазона (особенно ниже -5 и выше 10) являются редкими и потенциально шумными"
      ],
      "metadata": {
        "id": "NAjvY0Dc6W7K"
      }
    },
    {
      "cell_type": "code",
      "source": [
        "lower_bound = -2\n",
        "upper_bound = 9"
      ],
      "metadata": {
        "id": "6bNNcqVumQo7"
      },
      "execution_count": 20,
      "outputs": []
    },
    {
      "cell_type": "code",
      "source": [
        "data_filtered = train_clean[(train_clean['LogP'] > lower_bound) & (train_clean['LogP'] < upper_bound)]\n",
        "\n",
        "print(f'Количество первоначальных данных: {len(train_clean)}')\n",
        "print(f'Осталось данных: {len(data_filtered)}')\n",
        "print(f'Оставлено {len(data_filtered) / len(train_clean) * 100:.2f}% данных')"
      ],
      "metadata": {
        "id": "iTMeebWBxd2d",
        "colab": {
          "base_uri": "https://localhost:8080/"
        },
        "outputId": "e69c557f-6434-4048-882e-83203dd99ead"
      },
      "execution_count": 29,
      "outputs": [
        {
          "output_type": "stream",
          "name": "stdout",
          "text": [
            "Количество первоначальных данных: 12953\n",
            "Осталось данных: 12656\n",
            "Оставлено 97.71% данных\n"
          ]
        }
      ]
    },
    {
      "cell_type": "code",
      "source": [
        "# Проверим данные на наличие дубликатов\n",
        "data_filtered.loc[:, 'SMILES'] = data_filtered['SMILES'].str.strip()\n",
        "print(f'В данных {data_filtered[\"SMILES\"].duplicated().sum()} дубликатов')"
      ],
      "metadata": {
        "colab": {
          "base_uri": "https://localhost:8080/"
        },
        "id": "mjCGJSnD1H04",
        "outputId": "0f00ae8a-11ef-4248-be29-7e0aec48fbe8"
      },
      "execution_count": 31,
      "outputs": [
        {
          "output_type": "stream",
          "name": "stdout",
          "text": [
            "В данных 1864 дубликатов\n"
          ]
        }
      ]
    },
    {
      "cell_type": "markdown",
      "source": [
        "В исходных данных обнаружено 1864 дубликата по SMILES — это означает, что одни и те же молекулы (с одинаковым описанием структуры) присутствуют в датасете несколько раз с разными значениями LogP.\n",
        "\n",
        "Чтобы избавиться от дублирования и избежать переобучения модели на одинаковых молекулах, я объединил такие строки и усреднил значения Log"
      ],
      "metadata": {
        "id": "S-5YnjGD7ipc"
      }
    },
    {
      "cell_type": "code",
      "source": [
        "data_filtered.loc[:, 'SMILES'] = data_filtered['SMILES'].str.strip()\n",
        "data_filtered = data_filtered.groupby('SMILES').agg({\n",
        "    'LogP': 'mean',\n",
        "}).reset_index()\n",
        "\n",
        "print(f'Осталось данных: {len(data_filtered)}')\n",
        "print(f'От изначального train осталось {len(data_filtered) / len(train) * 100:.2f}% данных')"
      ],
      "metadata": {
        "id": "D-hY2CtrPoQH",
        "colab": {
          "base_uri": "https://localhost:8080/"
        },
        "outputId": "40696b67-8fab-4ca5-b646-c6a7fa0b81a4"
      },
      "execution_count": 46,
      "outputs": [
        {
          "output_type": "stream",
          "name": "stdout",
          "text": [
            "Осталось данных: 10792\n",
            "От изначального train осталось 80.52% данных\n"
          ]
        }
      ]
    },
    {
      "cell_type": "markdown",
      "source": [
        "Посмотрим на распределение целевой характеристики после фильтрации данных"
      ],
      "metadata": {
        "id": "FHI3MfsU6v2o"
      }
    },
    {
      "cell_type": "code",
      "source": [
        "# Распределение после очистки данных\n",
        "plot_distribution(data_filtered['LogP'])"
      ],
      "metadata": {
        "colab": {
          "base_uri": "https://localhost:8080/",
          "height": 607
        },
        "id": "q86duX2V2E_w",
        "outputId": "af1dc663-c847-471b-f5de-6ab08aabfd07"
      },
      "execution_count": 37,
      "outputs": [
        {
          "output_type": "display_data",
          "data": {
            "text/plain": [
              "<Figure size 1000x600 with 1 Axes>"
            ],
            "image/png": "[encoded data removed]"
          },
          "metadata": {}
        }
      ]
    },
    {
      "cell_type": "code",
      "source": [
        "data_filtered.to_csv('train_clean.csv', index=False)"
      ],
      "metadata": {
        "id": "HCuoO6Lcnsee"
      },
      "execution_count": 33,
      "outputs": []
    },
    {
      "cell_type": "code",
      "source": [
        "train = pd.read_csv('train_clean.csv')\n",
        "print(f'В тренировочных данных {len(train)} строк')"
      ],
      "metadata": {
        "id": "HeBGIxWFF5hQ",
        "colab": {
          "base_uri": "https://localhost:8080/"
        },
        "outputId": "49f56661-c7fd-4ef1-ce28-d5fc8d7e4442"
      },
      "execution_count": 44,
      "outputs": [
        {
          "output_type": "stream",
          "name": "stdout",
          "text": [
            "В тренировочных данных 10792 строк\n"
          ]
        }
      ]
    },
    {
      "cell_type": "code",
      "source": [
        "train.head()"
      ],
      "metadata": {
        "colab": {
          "base_uri": "https://localhost:8080/",
          "height": 206
        },
        "id": "Ho1oSfNf65G_",
        "outputId": "2482c50c-d283-4c46-e557-c27f92e835fd"
      },
      "execution_count": 40,
      "outputs": [
        {
          "output_type": "execute_result",
          "data": {
            "text/plain": [
              "                                             SMILES   LogP\n",
              "0                                     BrC(Br)(Br)Br  4.147\n",
              "1                                     BrC(Br)(Br)CO  2.897\n",
              "2                                BrC(Br)(C(N)=O)C#N  1.824\n",
              "3  BrC(Br)C(NC(C(O)C=1C=CC(=CC=1)[N+](=O)[O-])CO)=O  3.524\n",
              "4                       BrC1=C(C(NC2=NCCN2)=CC=C1)C  3.443"
            ],
            "text/html": [
              "\n",
              "  <div id=\"df-dbe54756-042f-46d8-85ee-292da233a7c3\" class=\"colab-df-container\">\n",
              "    <div>\n",
              "<style scoped>\n",
              "    .dataframe tbody tr th:only-of-type {\n",
              "        vertical-align: middle;\n",
              "    }\n",
              "\n",
              "    .dataframe tbody tr th {\n",
              "        vertical-align: top;\n",
              "    }\n",
              "\n",
              "    .dataframe thead th {\n",
              "        text-align: right;\n",
              "    }\n",
              "</style>\n",
              "<table border=\"1\" class=\"dataframe\">\n",
              "  <thead>\n",
              "    <tr style=\"text-align: right;\">\n",
              "      <th></th>\n",
              "      <th>SMILES</th>\n",
              "      <th>LogP</th>\n",
              "    </tr>\n",
              "  </thead>\n",
              "  <tbody>\n",
              "    <tr>\n",
              "      <th>0</th>\n",
              "      <td>BrC(Br)(Br)Br</td>\n",
              "      <td>4.147</td>\n",
              "    </tr>\n",
              "    <tr>\n",
              "      <th>1</th>\n",
              "      <td>BrC(Br)(Br)CO</td>\n",
              "      <td>2.897</td>\n",
              "    </tr>\n",
              "    <tr>\n",
              "      <th>2</th>\n",
              "      <td>BrC(Br)(C(N)=O)C#N</td>\n",
              "      <td>1.824</td>\n",
              "    </tr>\n",
              "    <tr>\n",
              "      <th>3</th>\n",
              "      <td>BrC(Br)C(NC(C(O)C=1C=CC(=CC=1)[N+](=O)[O-])CO)=O</td>\n",
              "      <td>3.524</td>\n",
              "    </tr>\n",
              "    <tr>\n",
              "      <th>4</th>\n",
              "      <td>BrC1=C(C(NC2=NCCN2)=CC=C1)C</td>\n",
              "      <td>3.443</td>\n",
              "    </tr>\n",
              "  </tbody>\n",
              "</table>\n",
              "</div>\n",
              "    <div class=\"colab-df-buttons\">\n",
              "\n",
              "  <div class=\"colab-df-container\">\n",
              "    <button class=\"colab-df-convert\" onclick=\"convertToInteractive('df-dbe54756-042f-46d8-85ee-292da233a7c3')\"\n",
              "            title=\"Convert this dataframe to an interactive table.\"\n",
              "            style=\"display:none;\">\n",
              "\n",
              "  <svg xmlns=\"http://www.w3.org/2000/svg\" height=\"24px\" viewBox=\"0 -960 960 960\">\n",
              "    <path d=\"M120-120v-720h720v720H120Zm60-500h600v-160H180v160Zm220 220h160v-160H400v160Zm0 220h160v-160H400v160ZM180-400h160v-160H180v160Zm440 0h160v-160H620v160ZM180-180h160v-160H180v160Zm440 0h160v-160H620v160Z\"/>\n",
              "  </svg>\n",
              "    </button>\n",
              "\n",
              "  <style>\n",
              "    .colab-df-container {\n",
              "      display:flex;\n",
              "      gap: 12px;\n",
              "    }\n",
              "\n",
              "    .colab-df-convert {\n",
              "      background-color: #E8F0FE;\n",
              "      border: none;\n",
              "      border-radius: 50%;\n",
              "      cursor: pointer;\n",
              "      display: none;\n",
              "      fill: #1967D2;\n",
              "      height: 32px;\n",
              "      padding: 0 0 0 0;\n",
              "      width: 32px;\n",
              "    }\n",
              "\n",
              "    .colab-df-convert:hover {\n",
              "      background-color: #E2EBFA;\n",
              "      box-shadow: 0px 1px 2px rgba(60, 64, 67, 0.3), 0px 1px 3px 1px rgba(60, 64, 67, 0.15);\n",
              "      fill: #174EA6;\n",
              "    }\n",
              "\n",
              "    .colab-df-buttons div {\n",
              "      margin-bottom: 4px;\n",
              "    }\n",
              "\n",
              "    [theme=dark] .colab-df-convert {\n",
              "      background-color: #3B4455;\n",
              "      fill: #D2E3FC;\n",
              "    }\n",
              "\n",
              "    [theme=dark] .colab-df-convert:hover {\n",
              "      background-color: #434B5C;\n",
              "      box-shadow: 0px 1px 3px 1px rgba(0, 0, 0, 0.15);\n",
              "      filter: drop-shadow(0px 1px 2px rgba(0, 0, 0, 0.3));\n",
              "      fill: #FFFFFF;\n",
              "    }\n",
              "  </style>\n",
              "\n",
              "    <script>\n",
              "      const buttonEl =\n",
              "        document.querySelector('#df-dbe54756-042f-46d8-85ee-292da233a7c3 button.colab-df-convert');\n",
              "      buttonEl.style.display =\n",
              "        google.colab.kernel.accessAllowed ? 'block' : 'none';\n",
              "\n",
              "      async function convertToInteractive(key) {\n",
              "        const element = document.querySelector('#df-dbe54756-042f-46d8-85ee-292da233a7c3');\n",
              "        const dataTable =\n",
              "          await google.colab.kernel.invokeFunction('convertToInteractive',\n",
              "                                                    [key], {});\n",
              "        if (!dataTable) return;\n",
              "\n",
              "        const docLinkHtml = 'Like what you see? Visit the ' +\n",
              "          '<a target=\"_blank\" href=https://colab.research.google.com/notebooks/data_table.ipynb>data table notebook</a>'\n",
              "          + ' to learn more about interactive tables.';\n",
              "        element.innerHTML = '';\n",
              "        dataTable['output_type'] = 'display_data';\n",
              "        await google.colab.output.renderOutput(dataTable, element);\n",
              "        const docLink = document.createElement('div');\n",
              "        docLink.innerHTML = docLinkHtml;\n",
              "        element.appendChild(docLink);\n",
              "      }\n",
              "    </script>\n",
              "  </div>\n",
              "\n",
              "\n",
              "<div id=\"df-d70401b1-235f-4ae3-ace5-c29d5fb1d306\">\n",
              "  <button class=\"colab-df-quickchart\" onclick=\"quickchart('df-d70401b1-235f-4ae3-ace5-c29d5fb1d306')\"\n",
              "            title=\"Suggest charts\"\n",
              "            style=\"display:none;\">\n",
              "\n",
              "<svg xmlns=\"http://www.w3.org/2000/svg\" height=\"24px\"viewBox=\"0 0 24 24\"\n",
              "     width=\"24px\">\n",
              "    <g>\n",
              "        <path d=\"M19 3H5c-1.1 0-2 .9-2 2v14c0 1.1.9 2 2 2h14c1.1 0 2-.9 2-2V5c0-1.1-.9-2-2-2zM9 17H7v-7h2v7zm4 0h-2V7h2v10zm4 0h-2v-4h2v4z\"/>\n",
              "    </g>\n",
              "</svg>\n",
              "  </button>\n",
              "\n",
              "<style>\n",
              "  .colab-df-quickchart {\n",
              "      --bg-color: #E8F0FE;\n",
              "      --fill-color: #1967D2;\n",
              "      --hover-bg-color: #E2EBFA;\n",
              "      --hover-fill-color: #174EA6;\n",
              "      --disabled-fill-color: #AAA;\n",
              "      --disabled-bg-color: #DDD;\n",
              "  }\n",
              "\n",
              "  [theme=dark] .colab-df-quickchart {\n",
              "      --bg-color: #3B4455;\n",
              "      --fill-color: #D2E3FC;\n",
              "      --hover-bg-color: #434B5C;\n",
              "      --hover-fill-color: #FFFFFF;\n",
              "      --disabled-bg-color: #3B4455;\n",
              "      --disabled-fill-color: #666;\n",
              "  }\n",
              "\n",
              "  .colab-df-quickchart {\n",
              "    background-color: var(--bg-color);\n",
              "    border: none;\n",
              "    border-radius: 50%;\n",
              "    cursor: pointer;\n",
              "    display: none;\n",
              "    fill: var(--fill-color);\n",
              "    height: 32px;\n",
              "    padding: 0;\n",
              "    width: 32px;\n",
              "  }\n",
              "\n",
              "  .colab-df-quickchart:hover {\n",
              "    background-color: var(--hover-bg-color);\n",
              "    box-shadow: 0 1px 2px rgba(60, 64, 67, 0.3), 0 1px 3px 1px rgba(60, 64, 67, 0.15);\n",
              "    fill: var(--button-hover-fill-color);\n",
              "  }\n",
              "\n",
              "  .colab-df-quickchart-complete:disabled,\n",
              "  .colab-df-quickchart-complete:disabled:hover {\n",
              "    background-color: var(--disabled-bg-color);\n",
              "    fill: var(--disabled-fill-color);\n",
              "    box-shadow: none;\n",
              "  }\n",
              "\n",
              "  .colab-df-spinner {\n",
              "    border: 2px solid var(--fill-color);\n",
              "    border-color: transparent;\n",
              "    border-bottom-color: var(--fill-color);\n",
              "    animation:\n",
              "      spin 1s steps(1) infinite;\n",
              "  }\n",
              "\n",
              "  @keyframes spin {\n",
              "    0% {\n",
              "      border-color: transparent;\n",
              "      border-bottom-color: var(--fill-color);\n",
              "      border-left-color: var(--fill-color);\n",
              "    }\n",
              "    20% {\n",
              "      border-color: transparent;\n",
              "      border-left-color: var(--fill-color);\n",
              "      border-top-color: var(--fill-color);\n",
              "    }\n",
              "    30% {\n",
              "      border-color: transparent;\n",
              "      border-left-color: var(--fill-color);\n",
              "      border-top-color: var(--fill-color);\n",
              "      border-right-color: var(--fill-color);\n",
              "    }\n",
              "    40% {\n",
              "      border-color: transparent;\n",
              "      border-right-color: var(--fill-color);\n",
              "      border-top-color: var(--fill-color);\n",
              "    }\n",
              "    60% {\n",
              "      border-color: transparent;\n",
              "      border-right-color: var(--fill-color);\n",
              "    }\n",
              "    80% {\n",
              "      border-color: transparent;\n",
              "      border-right-color: var(--fill-color);\n",
              "      border-bottom-color: var(--fill-color);\n",
              "    }\n",
              "    90% {\n",
              "      border-color: transparent;\n",
              "      border-bottom-color: var(--fill-color);\n",
              "    }\n",
              "  }\n",
              "</style>\n",
              "\n",
              "  <script>\n",
              "    async function quickchart(key) {\n",
              "      const quickchartButtonEl =\n",
              "        document.querySelector('#' + key + ' button');\n",
              "      quickchartButtonEl.disabled = true;  // To prevent multiple clicks.\n",
              "      quickchartButtonEl.classList.add('colab-df-spinner');\n",
              "      try {\n",
              "        const charts = await google.colab.kernel.invokeFunction(\n",
              "            'suggestCharts', [key], {});\n",
              "      } catch (error) {\n",
              "        console.error('Error during call to suggestCharts:', error);\n",
              "      }\n",
              "      quickchartButtonEl.classList.remove('colab-df-spinner');\n",
              "      quickchartButtonEl.classList.add('colab-df-quickchart-complete');\n",
              "    }\n",
              "    (() => {\n",
              "      let quickchartButtonEl =\n",
              "        document.querySelector('#df-d70401b1-235f-4ae3-ace5-c29d5fb1d306 button');\n",
              "      quickchartButtonEl.style.display =\n",
              "        google.colab.kernel.accessAllowed ? 'block' : 'none';\n",
              "    })();\n",
              "  </script>\n",
              "</div>\n",
              "    </div>\n",
              "  </div>\n"
            ],
            "application/vnd.google.colaboratory.intrinsic+json": {
              "type": "dataframe",
              "variable_name": "train",
              "summary": "{\n  \"name\": \"train\",\n  \"rows\": 10792,\n  \"fields\": [\n    {\n      \"column\": \"SMILES\",\n      \"properties\": {\n        \"dtype\": \"string\",\n        \"num_unique_values\": 10792,\n        \"samples\": [\n          \"C=1C(=CC=CC=1)C(O)C(C=2C=CC=CC=2)O\",\n          \"O1C(CCC(=O)O)=CC(=O)C2=CC3=C(CCCC3)C=C12\",\n          \"CNC12CCCCC2CCC=3C1=CC(=CC=3)OC\"\n        ],\n        \"semantic_type\": \"\",\n        \"description\": \"\"\n      }\n    },\n    {\n      \"column\": \"LogP\",\n      \"properties\": {\n        \"dtype\": \"number\",\n        \"std\": 1.8281499797696785,\n        \"min\": -1.897,\n        \"max\": 8.999,\n        \"num_unique_values\": 5797,\n        \"samples\": [\n          2.415,\n          3.673,\n          1.988\n        ],\n        \"semantic_type\": \"\",\n        \"description\": \"\"\n      }\n    }\n  ]\n}"
            }
          },
          "metadata": {},
          "execution_count": 40
        }
      ]
    },
    {
      "cell_type": "markdown",
      "source": [
        "# **Обучение модели**\n",
        "\n",
        "**Chemprop** — это специализированная библиотека для предсказания химических свойств молекул с использованием графовых нейронных сетей (GNN)\n",
        "\n",
        "![](https://migalkin.github.io/kgcourse2021/assets/images/l8/l8_mpnn.png)\n",
        "\n",
        "Она предоставляет мощные инструменты для работы с молекулярными структурами, интегрируя графовые представления молекул и методы машинного обучения \\\n",
        "\n",
        "Наилучшие гиперпараметры была подобраны руками\n",
        "\n",
        "| **Гиперпараметр**        | **Значение**                         |\n",
        "|--------------------------|--------------------------------------|\n",
        "| `epochs`                 | 80                                   |\n",
        "| `patience`               | 15                                   |\n",
        "| `message-hidden-dim`     | 800                                  |\n",
        "| `depth`                  | 5                                    |\n",
        "| `ffn-hidden-dim`         | 1200                                 |\n",
        "| `ffn-num-layers`         | 4                                    |\n",
        "| `dropout`                | 0.2                                  |\n",
        "| `init-lr`                | 0.0005                               |\n",
        "| `max-lr`                 | 0.001                                |\n",
        "| `final-lr`               | 0.00005                              |\n",
        "| `batch-size`             | 128                                  |\n",
        "| `split-type`             | `random`                             |\n",
        "| `ensemble-size`          | 7                                    |\n",
        "| `num-replicates`         | 7                                    |\n",
        "| `pytorch-seed`           | 99                                   |"
      ],
      "metadata": {
        "id": "ovtifLoT3jd-"
      }
    },
    {
      "cell_type": "code",
      "source": [
        "! chemprop train \\\n",
        "  --data-path \"train_clean\" \\\n",
        "  --task-type 'regression' \\\n",
        "  --smiles-columns 'SMILES' \\\n",
        "  --target-columns 'LogP' \\\n",
        "  --metric 'rmse' \\\n",
        "  --epochs 80 \\\n",
        "  --patience 15 \\\n",
        "  --message-hidden-dim 800 \\\n",
        "  --depth 5 \\\n",
        "  --ffn-hidden-dim 1200 \\\n",
        "  --ffn-num-layers 4 \\\n",
        "  --dropout 0.2 \\\n",
        "  --init-lr 0.0005 \\\n",
        "  --max-lr 0.001 \\\n",
        "  --final-lr 0.00005 \\\n",
        "  --batch-size 128 \\\n",
        "  --split-type 'random' \\\n",
        "  --ensemble-size 7 \\\n",
        "  --num-replicates 7 \\\n",
        "  --pytorch-seed 99 \\\n",
        "  --save-dir \"logp_model\""
      ],
      "metadata": {
        "id": "Oh7k58-_lFbs"
      },
      "execution_count": null,
      "outputs": []
    },
    {
      "cell_type": "markdown",
      "source": [
        "Получился ансамбль из 49 моделей. График обучения выглядит так\n",
        "![](https://github.com/droyti46/sibur-element-119/blob/main/img/train-loss.png?raw=true)\n",
        "\n",
        "Точность предсказания на обучающей выборке\n",
        "![](https://github.com/droyti46/sibur-element-119/blob/main/img/comparison.jpg?raw=true)"
      ],
      "metadata": {
        "id": "D82gRpEM3t89"
      }
    },
    {
      "cell_type": "markdown",
      "source": [
        "# **Формирование предсказания**"
      ],
      "metadata": {
        "id": "mioEvHgx3nNJ"
      }
    },
    {
      "cell_type": "code",
      "source": [
        "! chemprop predict \\\n",
        "  --test-path 'test.csv' \\\n",
        "  --model-paths 'logp_model' \\\n",
        "  --smiles-columns 'SMILES' \\\n",
        "  --preds-path 'submission.csv'"
      ],
      "metadata": {
        "id": "3hUiN7pZ4dsX"
      },
      "execution_count": null,
      "outputs": []
    },
    {
      "cell_type": "code",
      "source": [
        "submission = pd.read_csv('submission.csv')\n",
        "submission.drop(columns=['SMILES']).to_csv('submission.csv', index=False)"
      ],
      "metadata": {
        "id": "jQ961zt640Nn"
      },
      "execution_count": null,
      "outputs": []
    },
    {
      "cell_type": "markdown",
      "source": [
        "# **Готово 🎉**\n",
        "\n",
        "### **✅ Результаты**\n",
        "\n",
        "- RMSE на публичной части: **0.57779**\n",
        "- RMSE на приватной части: **0.66125**\n",
        "\n",
        "## **🏆 8 место в лидерборде**"
      ],
      "metadata": {
        "id": "By4drOTU43nj"
      }
    },
    {
      "cell_type": "code",
      "source": [],
      "metadata": {
        "id": "lefSLBiZ5ORe"
      },
      "execution_count": null,
      "outputs": []
    }
  ],
  "metadata": {
    "kernelspec": {
      "display_name": "Python 3",
      "name": "python3"
    },
    "language_info": {
      "codemirror_mode": {
        "name": "ipython",
        "version": 3
      },
      "file_extension": ".py",
      "mimetype": "text/x-python",
      "name": "python",
      "nbconvert_exporter": "python",
      "pygments_lexer": "ipython3",
      "version": "3.12.6"
    },
    "colab": {
      "provenance": []
    },
    "widgets": {
      "application/vnd.jupyter.widget-state+json": {
        "300f512bc11c41379d47a55fdbd92d4d": {
          "model_module": "@jupyter-widgets/controls",
          "model_name": "HBoxModel",
          "model_module_version": "1.5.0",
          "state": {
            "_dom_classes": [],
            "_model_module": "@jupyter-widgets/controls",
            "_model_module_version": "1.5.0",
            "_model_name": "HBoxModel",
            "_view_count": null,
            "_view_module": "@jupyter-widgets/controls",
            "_view_module_version": "1.5.0",
            "_view_name": "HBoxView",
            "box_style": "",
            "children": [
              "IPY_MODEL_2bc243c7370448cba1f322ab87702fe6",
              "IPY_MODEL_e61183feba694d08bb272600f63ebf68",
              "IPY_MODEL_4b3b342ce33b4a59b4f2d91b15ade453"
            ],
            "layout": "IPY_MODEL_d589716c0780433abb6f34c0b71faf9c"
          }
        },
        "2bc243c7370448cba1f322ab87702fe6": {
          "model_module": "@jupyter-widgets/controls",
          "model_name": "HTMLModel",
          "model_module_version": "1.5.0",
          "state": {
            "_dom_classes": [],
            "_model_module": "@jupyter-widgets/controls",
            "_model_module_version": "1.5.0",
            "_model_name": "HTMLModel",
            "_view_count": null,
            "_view_module": "@jupyter-widgets/controls",
            "_view_module_version": "1.5.0",
            "_view_name": "HTMLView",
            "description": "",
            "description_tooltip": null,
            "layout": "IPY_MODEL_45c348d1d0c844caa0f7457408804436",
            "placeholder": "​",
            "style": "IPY_MODEL_c90ab2af0bab4070bbe072857e3358ac",
            "value": "100%"
          }
        },
        "e61183feba694d08bb272600f63ebf68": {
          "model_module": "@jupyter-widgets/controls",
          "model_name": "FloatProgressModel",
          "model_module_version": "1.5.0",
          "state": {
            "_dom_classes": [],
            "_model_module": "@jupyter-widgets/controls",
            "_model_module_version": "1.5.0",
            "_model_name": "FloatProgressModel",
            "_view_count": null,
            "_view_module": "@jupyter-widgets/controls",
            "_view_module_version": "1.5.0",
            "_view_name": "ProgressView",
            "bar_style": "success",
            "description": "",
            "description_tooltip": null,
            "layout": "IPY_MODEL_96314f06b916492cad0f4ffdca006b6a",
            "max": 13403,
            "min": 0,
            "orientation": "horizontal",
            "style": "IPY_MODEL_5117cdc3128b49a785c101b9fc5e53c5",
            "value": 13403
          }
        },
        "4b3b342ce33b4a59b4f2d91b15ade453": {
          "model_module": "@jupyter-widgets/controls",
          "model_name": "HTMLModel",
          "model_module_version": "1.5.0",
          "state": {
            "_dom_classes": [],
            "_model_module": "@jupyter-widgets/controls",
            "_model_module_version": "1.5.0",
            "_model_name": "HTMLModel",
            "_view_count": null,
            "_view_module": "@jupyter-widgets/controls",
            "_view_module_version": "1.5.0",
            "_view_name": "HTMLView",
            "description": "",
            "description_tooltip": null,
            "layout": "IPY_MODEL_1c6fb07f58424611ad1a8447a9684488",
            "placeholder": "​",
            "style": "IPY_MODEL_1e43bc3363c547a881087125f38545b1",
            "value": " 13403/13403 [00:03&lt;00:00, 6486.76it/s]"
          }
        },
        "d589716c0780433abb6f34c0b71faf9c": {
          "model_module": "@jupyter-widgets/base",
          "model_name": "LayoutModel",
          "model_module_version": "1.2.0",
          "state": {
            "_model_module": "@jupyter-widgets/base",
            "_model_module_version": "1.2.0",
            "_model_name": "LayoutModel",
            "_view_count": null,
            "_view_module": "@jupyter-widgets/base",
            "_view_module_version": "1.2.0",
            "_view_name": "LayoutView",
            "align_content": null,
            "align_items": null,
            "align_self": null,
            "border": null,
            "bottom": null,
            "display": null,
            "flex": null,
            "flex_flow": null,
            "grid_area": null,
            "grid_auto_columns": null,
            "grid_auto_flow": null,
            "grid_auto_rows": null,
            "grid_column": null,
            "grid_gap": null,
            "grid_row": null,
            "grid_template_areas": null,
            "grid_template_columns": null,
            "grid_template_rows": null,
            "height": null,
            "justify_content": null,
            "justify_items": null,
            "left": null,
            "margin": null,
            "max_height": null,
            "max_width": null,
            "min_height": null,
            "min_width": null,
            "object_fit": null,
            "object_position": null,
            "order": null,
            "overflow": null,
            "overflow_x": null,
            "overflow_y": null,
            "padding": null,
            "right": null,
            "top": null,
            "visibility": null,
            "width": null
          }
        },
        "45c348d1d0c844caa0f7457408804436": {
          "model_module": "@jupyter-widgets/base",
          "model_name": "LayoutModel",
          "model_module_version": "1.2.0",
          "state": {
            "_model_module": "@jupyter-widgets/base",
            "_model_module_version": "1.2.0",
            "_model_name": "LayoutModel",
            "_view_count": null,
            "_view_module": "@jupyter-widgets/base",
            "_view_module_version": "1.2.0",
            "_view_name": "LayoutView",
            "align_content": null,
            "align_items": null,
            "align_self": null,
            "border": null,
            "bottom": null,
            "display": null,
            "flex": null,
            "flex_flow": null,
            "grid_area": null,
            "grid_auto_columns": null,
            "grid_auto_flow": null,
            "grid_auto_rows": null,
            "grid_column": null,
            "grid_gap": null,
            "grid_row": null,
            "grid_template_areas": null,
            "grid_template_columns": null,
            "grid_template_rows": null,
            "height": null,
            "justify_content": null,
            "justify_items": null,
            "left": null,
            "margin": null,
            "max_height": null,
            "max_width": null,
            "min_height": null,
            "min_width": null,
            "object_fit": null,
            "object_position": null,
            "order": null,
            "overflow": null,
            "overflow_x": null,
            "overflow_y": null,
            "padding": null,
            "right": null,
            "top": null,
            "visibility": null,
            "width": null
          }
        },
        "c90ab2af0bab4070bbe072857e3358ac": {
          "model_module": "@jupyter-widgets/controls",
          "model_name": "DescriptionStyleModel",
          "model_module_version": "1.5.0",
          "state": {
            "_model_module": "@jupyter-widgets/controls",
            "_model_module_version": "1.5.0",
            "_model_name": "DescriptionStyleModel",
            "_view_count": null,
            "_view_module": "@jupyter-widgets/base",
            "_view_module_version": "1.2.0",
            "_view_name": "StyleView",
            "description_width": ""
          }
        },
        "96314f06b916492cad0f4ffdca006b6a": {
          "model_module": "@jupyter-widgets/base",
          "model_name": "LayoutModel",
          "model_module_version": "1.2.0",
          "state": {
            "_model_module": "@jupyter-widgets/base",
            "_model_module_version": "1.2.0",
            "_model_name": "LayoutModel",
            "_view_count": null,
            "_view_module": "@jupyter-widgets/base",
            "_view_module_version": "1.2.0",
            "_view_name": "LayoutView",
            "align_content": null,
            "align_items": null,
            "align_self": null,
            "border": null,
            "bottom": null,
            "display": null,
            "flex": null,
            "flex_flow": null,
            "grid_area": null,
            "grid_auto_columns": null,
            "grid_auto_flow": null,
            "grid_auto_rows": null,
            "grid_column": null,
            "grid_gap": null,
            "grid_row": null,
            "grid_template_areas": null,
            "grid_template_columns": null,
            "grid_template_rows": null,
            "height": null,
            "justify_content": null,
            "justify_items": null,
            "left": null,
            "margin": null,
            "max_height": null,
            "max_width": null,
            "min_height": null,
            "min_width": null,
            "object_fit": null,
            "object_position": null,
            "order": null,
            "overflow": null,
            "overflow_x": null,
            "overflow_y": null,
            "padding": null,
            "right": null,
            "top": null,
            "visibility": null,
            "width": null
          }
        },
        "5117cdc3128b49a785c101b9fc5e53c5": {
          "model_module": "@jupyter-widgets/controls",
          "model_name": "ProgressStyleModel",
          "model_module_version": "1.5.0",
          "state": {
            "_model_module": "@jupyter-widgets/controls",
            "_model_module_version": "1.5.0",
            "_model_name": "ProgressStyleModel",
            "_view_count": null,
            "_view_module": "@jupyter-widgets/base",
            "_view_module_version": "1.2.0",
            "_view_name": "StyleView",
            "bar_color": null,
            "description_width": ""
          }
        },
        "1c6fb07f58424611ad1a8447a9684488": {
          "model_module": "@jupyter-widgets/base",
          "model_name": "LayoutModel",
          "model_module_version": "1.2.0",
          "state": {
            "_model_module": "@jupyter-widgets/base",
            "_model_module_version": "1.2.0",
            "_model_name": "LayoutModel",
            "_view_count": null,
            "_view_module": "@jupyter-widgets/base",
            "_view_module_version": "1.2.0",
            "_view_name": "LayoutView",
            "align_content": null,
            "align_items": null,
            "align_self": null,
            "border": null,
            "bottom": null,
            "display": null,
            "flex": null,
            "flex_flow": null,
            "grid_area": null,
            "grid_auto_columns": null,
            "grid_auto_flow": null,
            "grid_auto_rows": null,
            "grid_column": null,
            "grid_gap": null,
            "grid_row": null,
            "grid_template_areas": null,
            "grid_template_columns": null,
            "grid_template_rows": null,
            "height": null,
            "justify_content": null,
            "justify_items": null,
            "left": null,
            "margin": null,
            "max_height": null,
            "max_width": null,
            "min_height": null,
            "min_width": null,
            "object_fit": null,
            "object_position": null,
            "order": null,
            "overflow": null,
            "overflow_x": null,
            "overflow_y": null,
            "padding": null,
            "right": null,
            "top": null,
            "visibility": null,
            "width": null
          }
        },
        "1e43bc3363c547a881087125f38545b1": {
          "model_module": "@jupyter-widgets/controls",
          "model_name": "DescriptionStyleModel",
          "model_module_version": "1.5.0",
          "state": {
            "_model_module": "@jupyter-widgets/controls",
            "_model_module_version": "1.5.0",
            "_model_name": "DescriptionStyleModel",
            "_view_count": null,
            "_view_module": "@jupyter-widgets/base",
            "_view_module_version": "1.2.0",
            "_view_name": "StyleView",
            "description_width": ""
          }
        }
      }
    }
  },
  "nbformat": 4,
  "nbformat_minor": 0
}